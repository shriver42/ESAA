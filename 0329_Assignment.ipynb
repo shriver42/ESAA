{
  "nbformat": 4,
  "nbformat_minor": 0,
  "metadata": {
    "colab": {
      "provenance": [],
      "authorship_tag": "ABX9TyNsNW1wUTGMwgOSBXkOVqls",
      "include_colab_link": true
    },
    "kernelspec": {
      "name": "python3",
      "display_name": "Python 3"
    },
    "language_info": {
      "name": "python"
    }
  },
  "cells": [
    {
      "cell_type": "markdown",
      "metadata": {
        "id": "view-in-github",
        "colab_type": "text"
      },
      "source": [
        "<a href=\"https://colab.research.google.com/github/shriver42/ESAA/blob/%ED%95%84%EC%82%AC-%EA%B3%BC%EC%A0%9C/0329_Assignment.ipynb\" target=\"_parent\"><img src=\"https://colab.research.google.com/assets/colab-badge.svg\" alt=\"Open In Colab\"/></a>"
      ]
    },
    {
      "cell_type": "markdown",
      "source": [
        "[01]평가\n",
        " - 머신러닝 : 데이터 가공/변환, 모델 학습/예측, 평가의 프로세스로 구성된다\n",
        " - 성능 평가 지표: 모델이 회귀 or 분류 에 따라 달라진다\n",
        "  - 회귀 : 실제값과 예측값의 오차 평균에 기반\n",
        "  - 분류 : 회귀보다 추가적인 방법 필요\n",
        " - 분류의 성능 평가 지표:</br> 정확도, 오차행렬, 정밀도, 재현율, F1 스코어, ROC AUC\n",
        " - 분류의 종류 : </br> 이진 분류, 멀티 분류"
      ],
      "metadata": {
        "id": "0BrAnXp-vQAt"
      }
    },
    {
      "cell_type": "markdown",
      "source": [
        "[01-1] 정확도(Accuravy)\n",
        " - 정확도 = 예측 결과가 동일한 데이터 건수 / 전체 예측 데이터 건수\n",
        " - 정확도 수치 하나만으로 보면 ML 모델 성능 왜곡 가능"
      ],
      "metadata": {
        "id": "emkOcCw0EwQO"
      }
    },
    {
      "cell_type": "code",
      "execution_count": 48,
      "metadata": {
        "id": "tp0lAh6Ju2za"
      },
      "outputs": [],
      "source": [
        "#Classifier 만들어 주기\n",
        "from sklearn.base import BaseEstimator\n",
        "\n",
        "class MyDummyClassifier(BaseEstimator):\n",
        "  #fit() 메서드는 아무것도 학습하지 않음\n",
        "  def fit(self,X,y=None):\n",
        "    pass\n",
        "  #predict() 메서드는 단순히 Sex 피처가 1이면 0, 그렇지 않으면 1로 예측함\n",
        "  def predict(self, X):\n",
        "    pred = np.zeros((X.shape[0],1))\n",
        "    for i in range(X.shape[0]):\n",
        "      if X['Sex'].iloc[i] == 1:\n",
        "        pred[i] = 0\n",
        "      else :\n",
        "        pred[i] = 1\n",
        "\n",
        "    return pred"
      ]
    },
    {
      "cell_type": "code",
      "source": [
        "#타이타닉 생존자 수 예측 수행하기\n",
        "import pandas as pd\n",
        "import numpy as np\n",
        "from sklearn.model_selection import train_test_split\n",
        "from sklearn.metrics import accuracy_score\n",
        "from sklearn import preprocessing\n",
        "\n",
        "\n",
        "#이전에 한 데이터 전처리 과정\n",
        "\n",
        "# Null 처리 함수\n",
        "def fillna(df):\n",
        "  df['Age'].fillna(df['Age'].mean(), inplace=True)\n",
        "  df['Cabin'].fillna('N', inplace=True)\n",
        "  df['Embarked'].fillna('N', inplace=True)\n",
        "  df['Fare'].fillna(0, inplace=True)\n",
        "  return df\n",
        "\n",
        "# 머신러닝 알고리즘에 불필요한 속성 제거\n",
        "def drop_features(df):\n",
        "  df.drop(['PassengerId','Name','Ticket'], axis=1, inplace=True)\n",
        "  return df\n",
        "\n",
        "# 레이블 인코딩 수행\n",
        "from sklearn.preprocessing import LabelEncoder\n",
        "def format_features(df):\n",
        "  df['Cabin'] = df['Cabin'].str[:1]\n",
        "  features = ['Cabin','Sex','Embarked']\n",
        "  for feature in features:\n",
        "    le = LabelEncoder()\n",
        "    le = le.fit(df[feature])\n",
        "    df[feature] = le.transform(df[feature])\n",
        "  return df\n",
        "\n",
        "#전처리 함수 가져오기 위한 코드\n",
        "def transform_features(df):\n",
        "  df = fillna(df)\n",
        "  df = drop_features(df)\n",
        "  df = format_features(df)\n",
        "  return df\n",
        "\n",
        "#원본 데이터를 재로딩, 데이터 가공, 학습 데잍터/테스트 데이터 분할\n",
        "titanic_df = pd.read_csv('./train.csv')\n",
        "y_titanic_df = titanic_df['Survived']\n",
        "X_titanic_df = titanic_df.drop('Survived',axis=1)\n",
        "X_titanic_df = transform_features(X_titanic_df)\n",
        "X_train,X_test,y_train,y_test = train_test_split(X_titanic_df, y_titanic_df, test_size = 0.2,random_state=0)\n",
        "\n",
        "#위에서 생성한 Dummy Classifier를 이용해 학습/ 예측/ 평가 수행\n",
        "myclf = MyDummyClassifier()\n",
        "myclf.fit(X_train ,y_train)\n",
        "\n",
        "mypredictions = myclf.predict(X_test)\n",
        "print('Dummy Classifie의 정확도는 : {0:.4f}'.format(accuracy_score(y_test,mypredictions)))"
      ],
      "metadata": {
        "id": "fRwbhLnAjNe0",
        "colab": {
          "base_uri": "https://localhost:8080/"
        },
        "outputId": "6bfe75b1-8a19-42d7-8903-31436d69d972"
      },
      "execution_count": 49,
      "outputs": [
        {
          "output_type": "stream",
          "name": "stdout",
          "text": [
            "Dummy Classifie의 정확도는 : 0.7877\n"
          ]
        }
      ]
    },
    {
      "cell_type": "markdown",
      "source": [
        "- 불균형한 데이터에서 정확도의 위험성\n",
        " - 결과 : 모든 것을 0으로 예측해도 9정확도가 90%로 나오게 된다"
      ],
      "metadata": {
        "id": "IDV7LkVXSa09"
      }
    },
    {
      "cell_type": "code",
      "source": [
        "from sklearn.datasets import load_digits\n",
        "from sklearn.model_selection import train_test_split\n",
        "from sklearn.base import BaseEstimator\n",
        "from sklearn.metrics import accuracy_score\n",
        "import numpy as np\n",
        "import pandas as pd\n",
        "\n",
        "class MyFakeClassifier(BaseEstimator):\n",
        "  def fit(self,X,y):\n",
        "    pass\n",
        "\n",
        "  #입력값으로 들어오는 X 데이터 세트의 크기만큼 모두 0값으로 만들어서 반환\n",
        "  def predict(self,X):\n",
        "    return np.zeros((len(X),1), dtype=bool)\n",
        "\n",
        "#사이킷런의 내장 데이터 세트인 load_digiti()를 이용해 MNIST 데이터 로딩\n",
        "digits = load_digits()\n",
        "\n",
        "#digits 번호가 7번이면 True이고 이를 astype(int)로 1로 변환, 7번이 아니면 False 이고 0으로 변환\n",
        "y = (digits.target==7).astype(int)\n",
        "X_train,X_test,y_train,y_test = train_test_split(digits.data, y, random_state = 11)"
      ],
      "metadata": {
        "id": "Td6Iup61SiFu"
      },
      "execution_count": 50,
      "outputs": []
    },
    {
      "cell_type": "code",
      "source": [
        "#불균형한 레이블 데이터 분포도 확인\n",
        "print('레이블 테스터 세트 크기:', y_test.shape)\n",
        "print('테스트 세트 레이블 0과 1의 분포도')\n",
        "print(pd.Series(y_test).value_counts())\n",
        "\n",
        "#Dummy Classifier로 학습/예측/정확도 평가\n",
        "fakeclf = MyFakeClassifier()\n",
        "fakeclf.fit(X_train,y_train)\n",
        "fakepred = fakeclf.predict(X_test)\n",
        "print('모든 예측을 0으로 하여도 정확도는:(:.3f)'.format(accuracy_score(y_test,fakepred)))"
      ],
      "metadata": {
        "colab": {
          "base_uri": "https://localhost:8080/"
        },
        "id": "Lm_qbYmeURkT",
        "outputId": "a0c9433a-96b0-4a2b-8171-a365e7e9631a"
      },
      "execution_count": 51,
      "outputs": [
        {
          "output_type": "stream",
          "name": "stdout",
          "text": [
            "레이블 테스터 세트 크기: (450,)\n",
            "테스트 세트 레이블 0과 1의 분포도\n",
            "0    405\n",
            "1     45\n",
            "dtype: int64\n",
            "모든 예측을 0으로 하여도 정확도는:(:.3f)\n"
          ]
        }
      ]
    },
    {
      "cell_type": "markdown",
      "source": [
        "[01-2] 오차 행렬(Confusion Matrix, 혼동행렬)\n",
        " - 이진 분류 예측 오류 + 어떤 유형의 예측 오류가 발생하는 지 함께 보여준다\n",
        " - TN/FP/FN/TP : 4가지 유형이 있다</br> 실제 클래스가 앞의 글자이며, 예측값이 뒤의 글자이다.\n",
        "  - TN : 예측값을 Negative 값 0 으로 예측, 실제 값 또한 Negative 0\n",
        "  - FP : 예측값을 Positive 값 1으로 예측, 실제 값은 Negative 0\n",
        "  - FN : 예측값을 Negative 값 0으로 예측, 실제 값은 Positive 1\n",
        "  - TP : 예측값을 Positive 값 1으로 예측, 실제 갑 또한 Positive 1\n",
        " - 데이터 중에서 중점적으로 찾아야 하는 매우 적은 결괏값에 Positive를 설정해 1 부여\n",
        " - 이로 부터, 정확도, 정밀도, 재현율의 값들을 알 수 있다\n",
        " - 정확도 = (TN+TP)/(TN+FP+FN+TP)"
      ],
      "metadata": {
        "id": "0UK11r7li3cv"
      }
    },
    {
      "cell_type": "code",
      "source": [
        "#오차 행렬을 구하는 API : confusion_matrix()\n",
        "from sklearn.metrics import confusion_matrix\n",
        "\n",
        "#ndarray 형태로 출력된다\n",
        "confusion_matrix(y_test,fakepred)"
      ],
      "metadata": {
        "colab": {
          "base_uri": "https://localhost:8080/"
        },
        "id": "PGby1lxUj4yh",
        "outputId": "7137f206-2f4f-4eb2-b2b7-a4b084e9fa49"
      },
      "execution_count": 52,
      "outputs": [
        {
          "output_type": "execute_result",
          "data": {
            "text/plain": [
              "array([[405,   0],\n",
              "       [ 45,   0]])"
            ]
          },
          "metadata": {},
          "execution_count": 52
        }
      ]
    },
    {
      "cell_type": "markdown",
      "source": [
        "[01-3] 정밀도와 재현율\n",
        " - Positive 데이터 세트의 예측 성능에 좀 더 초점을 맞춘 평가 지표이다\n",
        " - 정밀도 = TP/(FP+TP)\n",
        " - 재현율 = TP/(FN+TP)\n",
        "  - 민감도, TPR 이라고도 불린다\n",
        " - 정밀도와 재현율은 분류 모델의 업무 특성에 따라 더 중요한 지표로 간주되는 게 달라진다\n",
        "  - 실제 Positive 양성 데이터를 Negative로 판단하면 업무상 큰 영향이 발생하는 경우 -> 재현율 중요</br>Ex) 암환자 진단, 금융 사기 적발 모델\n",
        "  - 실제 Negative 음성인 데이터를 Positive 예측으로 잘못 판단하면 업무상 큰 영향이 발생하는 경우 -> 정밀도 중요</br>EX) 스팸 메일 여부 판단 모델\n",
        " - 특정 지표가 강조돼야 할 경우, 결정 임곗값을 조정해 정밀도 또는 재현율의 수치를 높인다 : 트레이드오프\n",
        "  - 개별 레이블별로 결정 확률을 구한 후 예측 확률이 큰 레이블 값으로 예측하게 된다\n",
        "  - 이진 분류에서는, 임곗값을 0.5로 정하고 이 기준보다 크면 Positive, 작으면 Negative로 결정한다"
      ],
      "metadata": {
        "id": "jopBF7s1rWD1"
      }
    },
    {
      "cell_type": "code",
      "source": [
        "#정밀도 계산을 위한 precision_score()\n",
        "#재현율 계산을 위한 recall_score()\n",
        "#평가 간편하게 적용을 위한 confusion matrix, accuracy, percision,recall -> get_clf_eval() 한번에 호출\n",
        "\n",
        "from sklearn.metrics import accuracy_score,precision_score,recall_score,confusion_matrix\n",
        "\n",
        "def get_clf_eval(y_test,pred):\n",
        "  confusion = confusion_matrix(y_test,pred)\n",
        "  accuracy = accuracy_score(y_test,pred)\n",
        "  precision = precision_score(y_test,pred)\n",
        "  recall = recall_score(y_test,pred)\n",
        "  print('오차 행렬')\n",
        "  print(confusion)\n",
        "  print('정확도:{0:.4f}, 정밀도: {1:.4f}, 재현율:{2:.4f}'.format(accuracy,precision,recall))"
      ],
      "metadata": {
        "id": "n5yZF6zJrVTE"
      },
      "execution_count": 53,
      "outputs": []
    },
    {
      "cell_type": "code",
      "source": [
        "#로지스틱 회귀 기반으로 타이타닉 생존자 예측하기\n",
        "\n",
        "import pandas as pd\n",
        "from sklearn.model_selection import train_test_split\n",
        "from sklearn.linear_model import LogisticRegression\n",
        "\n",
        "#원본 데이터를 재로딩, 데이터 가공, 학습 데이터/테슽트 데이터 분할\n",
        "titanic_df = pd.read_csv('./train.csv')\n",
        "y_titanic_df = titanic_df['Survived']\n",
        "X_titanic_df = titanic_df.drop('Survived',axis=1)\n",
        "X_titanic_df = transform_features(X_titanic_df)\n",
        "\n",
        "X_train,X_test,y_train,y_test = train_test_split(X_titanic_df,y_titanic_df,test_size = 0.2, random_state = 11)\n",
        "lr_clf = LogisticRegression()\n",
        "\n",
        "lr_clf.fit(X_train,y_train)\n",
        "pred = lr_clf.predict(X_test)\n",
        "get_clf_eval(y_test,pred)"
      ],
      "metadata": {
        "colab": {
          "base_uri": "https://localhost:8080/"
        },
        "id": "nvvqvUy8tX0Z",
        "outputId": "b515462d-701f-40c2-9744-e3a1ccd9f90a"
      },
      "execution_count": 54,
      "outputs": [
        {
          "output_type": "stream",
          "name": "stdout",
          "text": [
            "오차 행렬\n",
            "[[104  14]\n",
            " [ 13  48]]\n",
            "정확도:0.8492, 정밀도: 0.7742, 재현율:0.7869\n"
          ]
        },
        {
          "output_type": "stream",
          "name": "stderr",
          "text": [
            "/usr/local/lib/python3.10/dist-packages/sklearn/linear_model/_logistic.py:458: ConvergenceWarning: lbfgs failed to converge (status=1):\n",
            "STOP: TOTAL NO. of ITERATIONS REACHED LIMIT.\n",
            "\n",
            "Increase the number of iterations (max_iter) or scale the data as shown in:\n",
            "    https://scikit-learn.org/stable/modules/preprocessing.html\n",
            "Please also refer to the documentation for alternative solver options:\n",
            "    https://scikit-learn.org/stable/modules/linear_model.html#logistic-regression\n",
            "  n_iter_i = _check_optimize_result(\n"
          ]
        }
      ]
    },
    {
      "cell_type": "markdown",
      "source": [
        "- 개별 예측 확률을 반환한다 : predict_proba()\n",
        " - 학습이 완료된 사이킷런 Classifier 객체에서 호출이 가능하다\n",
        " - ndarray(mxn) 형태로 반환한다 -> m : 입력 데이트 레코드의 수, n: 클래스 값 유형\n",
        " -각 열은 개별 클래스의 예측 확률. 첫번째: 0(Negative) , 두번째: 1(Positive)"
      ],
      "metadata": {
        "id": "8VaGQbgMy9tw"
      }
    },
    {
      "cell_type": "code",
      "source": [
        "#predict_proba()와 predict() 결과 비교해보기\n",
        "pred_proba = lr_clf.predict_proba(X_test)\n",
        "pred = lr_clf.predict(X_test)\n",
        "print('pred_proba() 결과 Shape: {0}'.format(pred_proba.shape))\n",
        "print('pred_proba array에서 앞 3개만 샘플로 추출 \\n :', pred_proba[:3])\n",
        "\n",
        "#예측확률 array와 예측 결괏값 array를 병합(concatente)해 예측 확률과 결괏값을 한눈에 확인\n",
        "pred_proba_result = np.concatenate([pred_proba,pred.reshape(-1,1)], axis=1)\n",
        "print('두 개의 class 중에서 더 큰 확률을 클래스 값으로 예측 \\n', pred_proba_result[:3])"
      ],
      "metadata": {
        "colab": {
          "base_uri": "https://localhost:8080/"
        },
        "id": "Wufa3Kriy1gH",
        "outputId": "41f45a4d-e69e-42da-c4a6-e0ed914cb5bd"
      },
      "execution_count": 55,
      "outputs": [
        {
          "output_type": "stream",
          "name": "stdout",
          "text": [
            "pred_proba() 결과 Shape: (179, 2)\n",
            "pred_proba array에서 앞 3개만 샘플로 추출 \n",
            " : [[0.46197474 0.53802526]\n",
            " [0.87872398 0.12127602]\n",
            " [0.87719492 0.12280508]]\n",
            "두 개의 class 중에서 더 큰 확률을 클래스 값으로 예측 \n",
            " [[0.46197474 0.53802526 1.        ]\n",
            " [0.87872398 0.12127602 0.        ]\n",
            " [0.87719492 0.12280508 0.        ]]\n"
          ]
        }
      ]
    },
    {
      "cell_type": "markdown",
      "source": [
        "- 트레이드 방식 이해하기 : Binarizer 클래스 이용"
      ],
      "metadata": {
        "id": "RUAG1lHt1IC9"
      }
    },
    {
      "cell_type": "code",
      "source": [
        "from sklearn.preprocessing import Binarizer\n",
        "x = [[1,-1,-2],\n",
        "     [2,0,0],\n",
        "     [0,1.1,1.2]]\n",
        "\n",
        "#X의 개별 원소들이 threshold값보다 같거나 작으면 0을, 크면 1을 반환\n",
        "binarizer = Binarizer(threshold=1.1)\n",
        "print(binarizer.fit_transform(x))"
      ],
      "metadata": {
        "colab": {
          "base_uri": "https://localhost:8080/"
        },
        "id": "VtN9rOFy1Qeq",
        "outputId": "1a2ce318-5c99-4da8-8339-103c4f37264e"
      },
      "execution_count": 56,
      "outputs": [
        {
          "output_type": "stream",
          "name": "stdout",
          "text": [
            "[[0. 0. 0.]\n",
            " [1. 0. 0.]\n",
            " [0. 0. 1.]]\n"
          ]
        }
      ]
    },
    {
      "cell_type": "code",
      "source": [
        "#Binarizer을 이용해 사이킷런의 의사(pesudo) 만들기 -> predict()가 predict_proba()에 기반한다는 사실을 알 수 있음\n",
        "from sklearn.preprocessing import Binarizer\n",
        "\n",
        "#Binarizer의 threshold 설정값. 분류 결정 임계값임.\n",
        "custom_threshold = 0.5\n",
        "\n",
        "#predict_proba() 반환값의 두 번째 칼럼, 즉 Positive 클래스 칼럼 하나만 추출해 Binarizer를 적용\n",
        "pred_proba_1 = pred_proba[:,1].reshape(-1,1)\n",
        "\n",
        "binarizer = Binarizer(threshold=custom_threshold).fit(pred_proba_1)\n",
        "custom_predict = binarizer.transform(pred_proba_1)\n",
        "\n",
        "get_clf_eval(y_test,custom_predict)"
      ],
      "metadata": {
        "colab": {
          "base_uri": "https://localhost:8080/"
        },
        "id": "zHs-n8Ia1wAv",
        "outputId": "dcfe30fd-c06e-4074-f743-57936b463baa"
      },
      "execution_count": 57,
      "outputs": [
        {
          "output_type": "stream",
          "name": "stdout",
          "text": [
            "오차 행렬\n",
            "[[104  14]\n",
            " [ 13  48]]\n",
            "정확도:0.8492, 정밀도: 0.7742, 재현율:0.7869\n"
          ]
        }
      ]
    },
    {
      "cell_type": "code",
      "source": [
        "#임곗값 낮춘 후 평가 지표 변화 보기\n",
        "custom_threshold = 0.4\n",
        "pred_proba_1 = pred_proba[:,1].reshape(-1,1)\n",
        "binarizer = Binarizer(threshold = custom_threshold).fit(pred_proba_1)\n",
        "custom_predict = binarizer.transform(pred_proba_1)\n",
        "\n",
        "get_clf_eval(y_test,custom_predict)       #재현율이 올라가고 정밀도가 떨어졌다"
      ],
      "metadata": {
        "colab": {
          "base_uri": "https://localhost:8080/"
        },
        "id": "SNe58DCM51Ld",
        "outputId": "4ba3295a-c408-4a81-8812-953cf66c9111"
      },
      "execution_count": 58,
      "outputs": [
        {
          "output_type": "stream",
          "name": "stdout",
          "text": [
            "오차 행렬\n",
            "[[98 20]\n",
            " [10 51]]\n",
            "정확도:0.8324, 정밀도: 0.7183, 재현율:0.8361\n"
          ]
        }
      ]
    },
    {
      "cell_type": "code",
      "source": [
        "#테스트를 수행할 모든 임겠값 리스트 객체로 저장.\n",
        "thresholds = [0.4,0.45,0.50,0.55,0.60]\n",
        "\n",
        "def get_eval_by_threshold(y_test,pred_proba_c1,threshold):\n",
        "  #thresholds list객체 내의 값을 차례로 iteration하면서 Evlauation 수행.\n",
        "  for custom_threshold in thresholds:\n",
        "    binarizer = Binarizer(threshold = custom_threshold).fit(pred_proba_c1)\n",
        "    custom_predict = binarizer.transform(pred_proba_c1)\n",
        "    print('임곗값:',custom_threshold)\n",
        "    get_clf_eval(y_test,custom_predict)\n",
        "\n",
        "get_eval_by_threshold(y_test,pred_proba[:,1].reshape(-1,1),thresholds)"
      ],
      "metadata": {
        "colab": {
          "base_uri": "https://localhost:8080/"
        },
        "id": "93jXHxqJ6iiI",
        "outputId": "d9ea8f89-9032-4477-8636-da5c1282f431"
      },
      "execution_count": 59,
      "outputs": [
        {
          "output_type": "stream",
          "name": "stdout",
          "text": [
            "임곗값: 0.4\n",
            "오차 행렬\n",
            "[[98 20]\n",
            " [10 51]]\n",
            "정확도:0.8324, 정밀도: 0.7183, 재현율:0.8361\n",
            "임곗값: 0.45\n",
            "오차 행렬\n",
            "[[103  15]\n",
            " [ 12  49]]\n",
            "정확도:0.8492, 정밀도: 0.7656, 재현율:0.8033\n",
            "임곗값: 0.5\n",
            "오차 행렬\n",
            "[[104  14]\n",
            " [ 13  48]]\n",
            "정확도:0.8492, 정밀도: 0.7742, 재현율:0.7869\n",
            "임곗값: 0.55\n",
            "오차 행렬\n",
            "[[109   9]\n",
            " [ 15  46]]\n",
            "정확도:0.8659, 정밀도: 0.8364, 재현율:0.7541\n",
            "임곗값: 0.6\n",
            "오차 행렬\n",
            "[[112   6]\n",
            " [ 16  45]]\n",
            "정확도:0.8771, 정밀도: 0.8824, 재현율:0.7377\n"
          ]
        }
      ]
    },
    {
      "cell_type": "markdown",
      "source": [
        "- precision_recall_curve()\n",
        " - 입력 파라미터 : y_true(실제 클래스값 배열), probas_pred(positive 칼럼 예측 확률 배열)\n",
        " - 반환 값 : 정밀도, 재현율"
      ],
      "metadata": {
        "id": "NS92QSRy7p8X"
      }
    },
    {
      "cell_type": "code",
      "source": [
        "from sklearn.metrics import precision_recall_curve\n",
        "\n",
        "#레이블 값이 1일 때의 예측 확률을 추출\n",
        "pred_proba_class1 = lr_clf.predict_proba(X_test)[:,1]\n",
        "\n",
        "#실제값 데이터 세트와 레이블 값이 1일 때의 예측 확률을 precision_recall_curve 인자로 입력\n",
        "precisions, recalls, thresholds = precision_recall_curve(y_test,pred_proba_class1)\n",
        "print('반환된 분류 결정 임곗값 배열의 Shape:', thresholds.shape)\n",
        "\n",
        "#반환된 임계값 배열 로우가 147건이므로 샘플로 10건만 추출하되, 임곗값을 15 Step으로 추출\n",
        "thr_index = np.arange(0,thresholds.shape[0], 15)\n",
        "print('샘플 추출을 위한 임계값 배열의 index 10개:', thr_index)\n",
        "print('샘플용 10개의 임곗값:', np.round(thresholds[thr_index],2))\n",
        "\n",
        "#15 step 단위로 추출된 임계값에 따른 정밀도와 재현율 값\n",
        "print('샘플 임계값별 정밀도:', np.round(precisions[thr_index],3))\n",
        "print('샘플 임계값별 재현율:', np.round(recalls[thr_index],3))"
      ],
      "metadata": {
        "colab": {
          "base_uri": "https://localhost:8080/"
        },
        "id": "wd9qwN-W64XP",
        "outputId": "f827c600-388d-43a0-ff3e-07db7c88905f"
      },
      "execution_count": 60,
      "outputs": [
        {
          "output_type": "stream",
          "name": "stdout",
          "text": [
            "반환된 분류 결정 임곗값 배열의 Shape: (165,)\n",
            "샘플 추출을 위한 임계값 배열의 index 10개: [  0  15  30  45  60  75  90 105 120 135 150]\n",
            "샘플용 10개의 임곗값: [0.01 0.09 0.11 0.13 0.15 0.23 0.35 0.5  0.63 0.75 0.89]\n",
            "샘플 임계값별 정밀도: [0.341 0.372 0.415 0.448 0.505 0.585 0.688 0.774 0.913 0.935 0.938]\n",
            "샘플 임계값별 재현율: [1.    1.    0.967 0.918 0.902 0.902 0.869 0.787 0.689 0.475 0.246]\n"
          ]
        }
      ]
    },
    {
      "cell_type": "code",
      "source": [
        "#시각화\n",
        "import matplotlib.pyplot as plt\n",
        "import matplotlib.ticker as ticker\n",
        "%matplotlib inline\n",
        "\n",
        "def precision_recall_curve_plot(y_test, pred_proba_c1):\n",
        "  #threshold ndarray와 이 threshold에 따른 정밀도, 재현율 ndarray 추출\n",
        "  prrecision, recalls,thresholds = precision_recall_curve(y_test,pred_proba_c1)\n",
        "\n",
        "  #x축을 threshold값으로, Y축은 정밀도, 재현율 값으로 각각 Plot 수행. 정밀도는 점선으로 표시\n",
        "  plt.figure(figsize=(8,6))\n",
        "  threshold_boundary = thresholds.shape[0]\n",
        "  plt.plot(thresholds,precisions[0:threshold_boundary], linestyle='--',label='precision')\n",
        "  plt.plot(thresholds,recalls[0:threshold_boundary],label='recall')\n",
        "\n",
        "  #threshold 값 x 축의 scale을 0.1 단위로 변경\n",
        "  start, end = plt.xlim()\n",
        "  plt.xticks(np.round(np.arange(start,end,0.1),2))\n",
        "\n",
        "  #x축,y축 label과 legend, 그리고 grid 설정\n",
        "  plt.xlabel('Threshold value'); plt.ylabel('Precision and Recall value')\n",
        "  plt.legend();plt.grid()\n",
        "  plt.show()\n",
        "\n",
        "precision_recall_curve_plot(y_test,lr_clf.predict_proba(X_test)[:,1])"
      ],
      "metadata": {
        "id": "gMl4Wq-e9wPX",
        "colab": {
          "base_uri": "https://localhost:8080/",
          "height": 542
        },
        "outputId": "f6d2c5fe-2731-4252-af9b-1651bc9068e0"
      },
      "execution_count": 61,
      "outputs": [
        {
          "output_type": "display_data",
          "data": {
            "text/plain": [
              "<Figure size 800x600 with 1 Axes>"
            ],
            "image/png": "[encoded data removed]"
          },
          "metadata": {}
        }
      ]
    },
    {
      "cell_type": "markdown",
      "source": [
        "- 정밀도와 재현율의 맹점\n",
        " - 정밀도가 100%가 되는 방법 : 확실한 경우에만 Positive로 예측하고 나머지 경우에는 모두 Negative로 예측\n",
        " - 재현율이 100%가 되는 방법 : 모든 환자를 Positive로 예측\n",
        " - 두 개의 수치는 상호 보완할 수 있는 수준에서 적용되어야 한다"
      ],
      "metadata": {
        "id": "QFuyBmbR1YBe"
      }
    },
    {
      "cell_type": "markdown",
      "source": [
        "[01-4]  F1 스코어 : f1_score()\n",
        "- 정밀도와 재현율의 결합한 지표</br>\n",
        "F1 = 2 * (precision*recall)/(precision+recall)"
      ],
      "metadata": {
        "id": "34llV5882aIu"
      }
    },
    {
      "cell_type": "code",
      "source": [
        "#로지스틱 회귀 기반 타이타닉 생존자 모델의 F1 스코어 구하기\n",
        "from sklearn.metrics import f1_score\n",
        "f1 = f1_score(y_test,pred)\n",
        "print('F1 스코어: {0:.4f}'.format(f1))"
      ],
      "metadata": {
        "colab": {
          "base_uri": "https://localhost:8080/"
        },
        "id": "5Wx7Ljj02rml",
        "outputId": "c490a302-7db2-46bc-f8ae-07bca5a09ea0"
      },
      "execution_count": 62,
      "outputs": [
        {
          "output_type": "stream",
          "name": "stdout",
          "text": [
            "F1 스코어: 0.7805\n"
          ]
        }
      ]
    },
    {
      "cell_type": "code",
      "source": [
        "#타이타닉 생존자 예측에서 F1 스코어를 포함한 평가 지표\n",
        "def get_clf_eval(y_test,pred):\n",
        "  confusion = confusion_matrix(y_test,pred)\n",
        "  accuracy = accuracy_score(y_test,pred)\n",
        "  precision = precision_score(y_test,pred)\n",
        "  recall = recall_score(y_test,pred)\n",
        "  #F1 스코어 추가\n",
        "  f1 = f1_score(y_test,pred)\n",
        "  print('오차 행렬')\n",
        "  print(confusion)\n",
        "  #f1 score print 추가\n",
        "  print('정확도: {0:.4f}, 정밀도: {1:.4f}, 재현율 : {2:.4f}, F1: {3:.4f}'.format(accuracy, precision,recall,f1))\n",
        "\n",
        "thresholds = [0.4,0.45,0.50,0.55,0.60]\n",
        "pred_proba = lr_clf.predict_proba(X_test)\n",
        "get_eval_by_threshold(y_test, pred_proba[:,1].reshape(-1,1),thresholds)"
      ],
      "metadata": {
        "colab": {
          "base_uri": "https://localhost:8080/"
        },
        "id": "tX1-rpsI3AfZ",
        "outputId": "891d34b2-5be6-4db7-84da-0abe3688af27"
      },
      "execution_count": 63,
      "outputs": [
        {
          "output_type": "stream",
          "name": "stdout",
          "text": [
            "임곗값: 0.4\n",
            "오차 행렬\n",
            "[[98 20]\n",
            " [10 51]]\n",
            "정확도: 0.8324, 정밀도: 0.7183, 재현율 : 0.8361, F1: 0.7727\n",
            "임곗값: 0.45\n",
            "오차 행렬\n",
            "[[103  15]\n",
            " [ 12  49]]\n",
            "정확도: 0.8492, 정밀도: 0.7656, 재현율 : 0.8033, F1: 0.7840\n",
            "임곗값: 0.5\n",
            "오차 행렬\n",
            "[[104  14]\n",
            " [ 13  48]]\n",
            "정확도: 0.8492, 정밀도: 0.7742, 재현율 : 0.7869, F1: 0.7805\n",
            "임곗값: 0.55\n",
            "오차 행렬\n",
            "[[109   9]\n",
            " [ 15  46]]\n",
            "정확도: 0.8659, 정밀도: 0.8364, 재현율 : 0.7541, F1: 0.7931\n",
            "임곗값: 0.6\n",
            "오차 행렬\n",
            "[[112   6]\n",
            " [ 16  45]]\n",
            "정확도: 0.8771, 정밀도: 0.8824, 재현율 : 0.7377, F1: 0.8036\n"
          ]
        }
      ]
    },
    {
      "cell_type": "markdown",
      "source": [
        "[01-5] ROC 곡선과 AUC\n",
        "- ROC 곡선 : FPR이 변할 때 TPR이 어떻게 변하는지 나타내는 곡선\n",
        " - TPR은 재현율(=민감도)를 나타낸다. 이는 실제값 Positive가 정확히 예측돼야 하는 수준을 나타낸다.\n",
        " - 이에 대응하는 지표로 TNR인 특이성이 있다. 이는 실제값 Negative가 정확히 예측돼야 하는 수준을 나타낸다.</br>\n",
        " TNR = TN / (FP+TN)\n",
        " -x축을 나타내는 FPR은 1-TNR로 나타낼 수 있다.</br>\n",
        "  FPR = FP / (FP+TN) = 1-TNR = 1-민감도\n",
        " - 그래프의 대각선에서 멀어질 수록 성능이 뛰어난 것이다.\n",
        "- AUC 면적 : ROC곡선 밑의 면적을 구한 것으로 1에 가까울수록 좋다"
      ],
      "metadata": {
        "id": "BBW9m6JO41Ep"
      }
    },
    {
      "cell_type": "code",
      "source": [
        "#roc_curve를 이용해 타이나닉 생존자 예측 모델의 FPR,TPR, 임곘값 구하기\n",
        "from sklearn.metrics import roc_curve\n",
        "\n",
        "#레이블 값이 1일 때의 예측 확률을 추출\n",
        "pred_proba_class1 = lr_clf.predict_proba(X_test)[:,1]\n",
        "\n",
        "fprs,tprs,thresholds = roc_curve(y_test,pred_proba_class1)\n",
        "#반환된 임곗값 배열 로우가 47건이므로 샘플로 10건만 추출하되, 임곗값을 5 step으로 추출\n",
        "#thresholds[0]은 max(예측확률)+1로 임의 설정됨. 이를 제외하기 위해 np.arange는 1부터 시작\n",
        "thr_index = np.arange(1, thresholds.shape[0],5)\n",
        "\n",
        "print('샘플 추출을 위한 임곗값 배열의 index 10개:',thr_index)\n",
        "print('샘플용 10개의 임곗값:',np.round(thresholds[thr_index],2))\n",
        "\n",
        "#5 step 단위로 추출된 임계값에 따른 FPR,TPR 값\n",
        "print('샘플 임곗값별 FPR: ',np.round(fprs[thr_index],3))\n",
        "print('샘플 임곗값별 TPR:', np.round(tprs[thr_index],3))"
      ],
      "metadata": {
        "colab": {
          "base_uri": "https://localhost:8080/"
        },
        "id": "gxAJOlS3-gho",
        "outputId": "8fd249d1-f8f1-4234-cbb1-06507828f5b2"
      },
      "execution_count": 64,
      "outputs": [
        {
          "output_type": "stream",
          "name": "stdout",
          "text": [
            "샘플 추출을 위한 임곗값 배열의 index 10개: [ 1  6 11 16 21 26 31 36 41 46 51]\n",
            "샘플용 10개의 임곗값: [0.97 0.65 0.63 0.56 0.45 0.4  0.35 0.15 0.13 0.11 0.11]\n",
            "샘플 임곗값별 FPR:  [0.    0.017 0.034 0.076 0.127 0.169 0.203 0.466 0.585 0.686 0.797]\n",
            "샘플 임곗값별 TPR: [0.033 0.639 0.721 0.754 0.803 0.836 0.885 0.902 0.934 0.967 0.984]\n"
          ]
        }
      ]
    },
    {
      "cell_type": "code",
      "source": [
        "def roc_curve_plot(y_test,pred_proba_c1):\n",
        "  #임곗값에 따른 FPR,TPR 값을 반환받음.\n",
        "  fprs,tprs,thresholds = roc_curve(y_test,pred_proba_c1)\n",
        "  #ROC 곡선을 그래프 곡선으로 그림\n",
        "  plt.plot(fprs,tprs,label='ROC')\n",
        "  #가운데 대각선 직선을 그림\n",
        "  plt.plot([0,1],[0,1],'k--',label='Random')\n",
        "\n",
        "  #FPR X축의 Scale을 0.1 단위로 변경, X, Y 축 명 설정 등\n",
        "  start, end = plt.xlim()\n",
        "  plt.xticks(np.round(np.arange(start,end,0.1),2))\n",
        "  plt.xlim(0,1); plt.ylim(0,1)\n",
        "  plt.xlabel('FPR(1-Sensitivity)'); plt.ylabel('TPR(Recall)')\n",
        "  plt.legend()\n",
        "\n",
        "roc_curve_plot(y_test,pred_proba[:,1])"
      ],
      "metadata": {
        "colab": {
          "base_uri": "https://localhost:8080/",
          "height": 455
        },
        "id": "x4NW-rsc_38f",
        "outputId": "318ade8b-6439-49c3-b3f6-493c7cff21c1"
      },
      "execution_count": 65,
      "outputs": [
        {
          "output_type": "display_data",
          "data": {
            "text/plain": [
              "<Figure size 640x480 with 1 Axes>"
            ],
            "image/png": "[encoded data removed]"
          },
          "metadata": {}
        }
      ]
    },
    {
      "cell_type": "code",
      "source": [
        "from sklearn.metrics import roc_auc_score\n",
        "\n",
        "pred = lr_clf.predict(X_test)\n",
        "roc_score = roc_auc_score(y_test, pred)\n",
        "print('ROC AUC 값: {0:.4f}'.format(roc_score))"
      ],
      "metadata": {
        "colab": {
          "base_uri": "https://localhost:8080/"
        },
        "id": "EA3iAgxbA9Sr",
        "outputId": "761b5ee0-8dbf-4ffe-fa8a-a1e8e68201f8"
      },
      "execution_count": 66,
      "outputs": [
        {
          "output_type": "stream",
          "name": "stdout",
          "text": [
            "ROC AUC 값: 0.8341\n"
          ]
        }
      ]
    },
    {
      "cell_type": "code",
      "source": [
        "#타이타닉 생존자 예측 모델에 ROC,AUC 까지 추가\n",
        "def get_clf_eval(y_test,pred=None,pred_proba=None):\n",
        "  confusion = confusion_matrix(y_test,pred)\n",
        "  accuracy = accuracy_score(y_test,pred)\n",
        "  precision = precision_score(y_test,pred)\n",
        "  recall = recall_score(y_test,pred)\n",
        "  f1 = f1_score(y_test,pred)\n",
        "  #ROC-AUC 추가\n",
        "  roc_auc = roc_auc_score(y_test,pred_proba)\n",
        "  print('오차 행렬')\n",
        "  print(confusion)\n",
        "  #ROC-AUC print 추가\n",
        "  print('정확도: {0:.4f}, 정밀도: {1:.4f}, 재현율 : {2:.4f}, F1: {3:.4f}, AUC:{4:.4f}'.format(accuracy, precision,recall,f1,roc_auc))"
      ],
      "metadata": {
        "id": "wLA5EY-OB_Dr"
      },
      "execution_count": 67,
      "outputs": []
    }
  ]
}