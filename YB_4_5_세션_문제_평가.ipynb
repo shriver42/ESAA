{
  "nbformat": 4,
  "nbformat_minor": 0,
  "metadata": {
    "colab": {
      "provenance": [],
      "include_colab_link": true
    },
    "kernelspec": {
      "name": "python3",
      "display_name": "Python 3"
    },
    "language_info": {
      "name": "python"
    }
  },
  "cells": [
    {
      "cell_type": "markdown",
      "metadata": {
        "id": "view-in-github",
        "colab_type": "text"
      },
      "source": [
        "<a href=\"https://colab.research.google.com/github/shriver42/ESAA/blob/%EC%97%B0%EC%8A%B5-%EB%AC%B8%EC%A0%9C/YB_4_5_%EC%84%B8%EC%85%98_%EB%AC%B8%EC%A0%9C_%ED%8F%89%EA%B0%80.ipynb\" target=\"_parent\"><img src=\"https://colab.research.google.com/assets/colab-badge.svg\" alt=\"Open In Colab\"/></a>"
      ]
    },
    {
      "cell_type": "code",
      "metadata": {
        "id": "4Zqc4O_BfWqZ"
      },
      "source": [
        "# 모듈 및 데이터 로드\n",
        "from sklearn.datasets import load_breast_cancer\n",
        "from sklearn.linear_model import LogisticRegression\n",
        "\n",
        "data = load_breast_cancer()\n",
        "\n",
        "# x, y 데이터 생성\n",
        "X = data.data\n",
        "\n",
        "# 악성을 1, 양성을 0으로\n",
        "y = 1 - data.target\n",
        "\n",
        "# 특징으로 사용할 데이터를 평균으로 구분하는 10개 열로 축소\n",
        "X = X[:, :10]\n",
        "\n",
        "# 로지스틱 회귀 모델 생성\n",
        "model_lor = LogisticRegression(solver = 'lbfgs')\n",
        "model_lor.fit(X,y)\n",
        "y_pred = model_lor.predict(X)"
      ],
      "execution_count": 37,
      "outputs": []
    },
    {
      "cell_type": "code",
      "source": [
        "from sklearn.model_selection import train_test_split\n",
        "from sklearn.metrics import accuracy_score, precision_score, recall_score, roc_auc_score\n",
        "from sklearn.metrics import f1_score, confusion_matrix,precision_recall_curve,roc_curve"
      ],
      "metadata": {
        "id": "PJWcBw5ChHM_"
      },
      "execution_count": 38,
      "outputs": []
    },
    {
      "cell_type": "markdown",
      "metadata": {
        "id": "faoAfc1ZgAcq"
      },
      "source": [
        "* 오차 행렬(혼동 행렬) 생성"
      ]
    },
    {
      "cell_type": "code",
      "metadata": {
        "id": "JdML8YM0gBtu",
        "colab": {
          "base_uri": "https://localhost:8080/"
        },
        "outputId": "7d29492a-f715-4e91-bf6b-20dcbd6d8abf"
      },
      "source": [
        "# 종속 변수와 예측 결과로 혼동 행렬 생성\n",
        "confusion = confusion_matrix(y,y_pred)\n",
        "print(confusion)"
      ],
      "execution_count": 39,
      "outputs": [
        {
          "output_type": "stream",
          "name": "stdout",
          "text": [
            "[[337  20]\n",
            " [ 30 182]]\n"
          ]
        }
      ]
    },
    {
      "cell_type": "markdown",
      "metadata": {
        "id": "xbcK3rT-gFRk"
      },
      "source": [
        "* 정확도"
      ]
    },
    {
      "cell_type": "code",
      "metadata": {
        "id": "NLiXFuYvgI1e",
        "colab": {
          "base_uri": "https://localhost:8080/"
        },
        "outputId": "d52f6fb0-d5ba-412b-f1a5-50c86ff0eb93"
      },
      "source": [
        "accuracy = accuracy_score(y,y_pred)\n",
        "print(accuracy)"
      ],
      "execution_count": 40,
      "outputs": [
        {
          "output_type": "stream",
          "name": "stdout",
          "text": [
            "0.9121265377855887\n"
          ]
        }
      ]
    },
    {
      "cell_type": "markdown",
      "metadata": {
        "id": "UYnVZS9igNNf"
      },
      "source": [
        "* 정밀도"
      ]
    },
    {
      "cell_type": "code",
      "metadata": {
        "id": "j108NueLgMKF",
        "colab": {
          "base_uri": "https://localhost:8080/"
        },
        "outputId": "c8ea3e22-a7ad-449a-8b1b-db4a0ebb2672"
      },
      "source": [
        "precision = precision_score(y,y_pred)\n",
        "print(precision)"
      ],
      "execution_count": 41,
      "outputs": [
        {
          "output_type": "stream",
          "name": "stdout",
          "text": [
            "0.900990099009901\n"
          ]
        }
      ]
    },
    {
      "cell_type": "markdown",
      "metadata": {
        "id": "2-MBquNJZOM4"
      },
      "source": [
        "* 재현율"
      ]
    },
    {
      "cell_type": "code",
      "metadata": {
        "id": "uje4ivPvZPwv",
        "colab": {
          "base_uri": "https://localhost:8080/"
        },
        "outputId": "5e911079-d775-444f-f2ca-62b4cd093207"
      },
      "source": [
        "recall = recall_score(y,y_pred)\n",
        "print(recall)"
      ],
      "execution_count": 42,
      "outputs": [
        {
          "output_type": "stream",
          "name": "stdout",
          "text": [
            "0.8584905660377359\n"
          ]
        }
      ]
    },
    {
      "cell_type": "markdown",
      "metadata": {
        "id": "Cw1p3yjagUCH"
      },
      "source": [
        "* F1 score"
      ]
    },
    {
      "cell_type": "code",
      "metadata": {
        "id": "hPdtYdoDgYgV",
        "colab": {
          "base_uri": "https://localhost:8080/"
        },
        "outputId": "42680440-271a-44c6-b980-f0bbf71483fa"
      },
      "source": [
        "f1 = f1_score(y,y_pred)\n",
        "print(f1)"
      ],
      "execution_count": 43,
      "outputs": [
        {
          "output_type": "stream",
          "name": "stdout",
          "text": [
            "0.8792270531400966\n"
          ]
        }
      ]
    },
    {
      "cell_type": "markdown",
      "metadata": {
        "id": "fzwIFsKOW5a1"
      },
      "source": [
        "* 예측 확률(pred_proba) : 0으로 예측할 확률이 0.1보다 크면 y_pred2 에 넣는다 가정."
      ]
    },
    {
      "cell_type": "code",
      "metadata": {
        "id": "nw9dxOiPW40l"
      },
      "source": [
        "from sklearn.preprocessing import Binarizer\n",
        "import numpy as np\n",
        "y_pred2= (model_lor.predict_proba(X)[:,1]>0.1)"
      ],
      "execution_count": 44,
      "outputs": []
    },
    {
      "cell_type": "code",
      "metadata": {
        "id": "Y-WrHrICYFB1",
        "colab": {
          "base_uri": "https://localhost:8080/"
        },
        "outputId": "8900c037-b66e-410b-d778-3096c851ed87"
      },
      "source": [
        "# y과 y_pred2의 혼동행렬, 정확도, 정밀도, 재현율, f1 score 구하기\n",
        "print('혼동 행렬')\n",
        "print(confusion)\n",
        "print('정확도')\n",
        "print(accuracy)\n",
        "print('정밀도')\n",
        "print(precision)\n",
        "print('재현율')\n",
        "print(recall)\n",
        "print('f1 score')\n",
        "print(f1)"
      ],
      "execution_count": 45,
      "outputs": [
        {
          "output_type": "stream",
          "name": "stdout",
          "text": [
            "혼동 행렬\n",
            "[[337  20]\n",
            " [ 30 182]]\n",
            "정확도\n",
            "0.9121265377855887\n",
            "정밀도\n",
            "0.900990099009901\n",
            "재현율\n",
            "0.8584905660377359\n",
            "f1 score\n",
            "0.8792270531400966\n"
          ]
        }
      ]
    },
    {
      "cell_type": "markdown",
      "metadata": {
        "id": "itgf_OjsjU-R"
      },
      "source": [
        "* ROC 곡선 시각화"
      ]
    },
    {
      "cell_type": "code",
      "metadata": {
        "id": "DW75xBokjXKy"
      },
      "source": [
        "from sklearn.metrics import roc_curve\n",
        "from sklearn.metrics import roc_curve\n",
        "probas = model_lor.predict_proba(X)\n",
        "\n",
        "fpr, tpr, thresholds = roc_curve(y, probas[:,1])"
      ],
      "execution_count": 46,
      "outputs": []
    },
    {
      "cell_type": "code",
      "metadata": {
        "id": "CSJ69SGJVh7m",
        "colab": {
          "base_uri": "https://localhost:8080/",
          "height": 478
        },
        "outputId": "7f5ba246-43b9-43d8-cfb9-7b86419c37d8"
      },
      "source": [
        "import matplotlib.pyplot as plt\n",
        "%matplotlib inline\n",
        "\n",
        "plt.style.use('fivethirtyeight')\n",
        "fig, ax = plt.subplots()\n",
        "\n",
        "ax.step(fpr, tpr, 'gray')\n",
        "ax.fill_between(fpr, tpr, 0, color='skyblue', alpha=0.8)\n",
        "ax.set_xlabel('False Positive Rate')\n",
        "ax.set_ylabel('True Positive Rate')\n",
        "ax.set_facecolor('xkcd:white')\n",
        "plt.show()"
      ],
      "execution_count": 47,
      "outputs": [
        {
          "output_type": "display_data",
          "data": {
            "text/plain": [
              "<Figure size 640x480 with 1 Axes>"
            ],
            "image/png": "[encoded data removed]"
          },
          "metadata": {}
        }
      ]
    },
    {
      "cell_type": "markdown",
      "metadata": {
        "id": "fL4as0YsWYD7"
      },
      "source": [
        "* ROC AUC 값"
      ]
    },
    {
      "cell_type": "code",
      "source": [
        "from sklearn.metrics import roc_auc_score\n",
        "roc_auc_score(y, probas[:,1])"
      ],
      "metadata": {
        "colab": {
          "base_uri": "https://localhost:8080/"
        },
        "id": "1Q-KKaYhpGPl",
        "outputId": "6d158224-c459-49b2-d46f-c737194e1bb0"
      },
      "execution_count": 48,
      "outputs": [
        {
          "output_type": "execute_result",
          "data": {
            "text/plain": [
              "0.9741424871835527"
            ]
          },
          "metadata": {},
          "execution_count": 48
        }
      ]
    }
  ]
}