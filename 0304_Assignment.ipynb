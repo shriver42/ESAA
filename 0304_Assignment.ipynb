{
  "nbformat": 4,
  "nbformat_minor": 0,
  "metadata": {
    "colab": {
      "provenance": []
    },
    "kernelspec": {
      "name": "python3",
      "display_name": "Python 3"
    },
    "language_info": {
      "name": "python"
    }
  },
  "cells": [
    {
      "cell_type": "markdown",
      "source": [
        "# 01. 파이썬 기반의 머신러닝과 생태계 이해\n",
        "</br></br>\n",
        "[01] 머신러닝의 개념\n",
        "*   데이터를 기반으로 패턴을 학습하고 결과를 예측하는 알고리즘\n",
        "*   일정한 패턴을 찾기 어려운 코드에서 머신러닝은 솔루션을 제공함\n",
        "    \n",
        "    Ex) 언어 필터링 시, 문맥 파악\n",
        "\n",
        "*   데이터 분석은 머신러닝 기반의 예측분석으로 변화하고 있음\n",
        "\n",
        "</br></br>\n",
        "[02] 머신러닝의 분류\n",
        "\n",
        "\n",
        "1.   지도 학습\n",
        "*   **분류**\n",
        "*   **회귀**\n",
        "*   추천 시스템\n",
        "*   시각/음성 감지/인지\n",
        "*   텍스트 분석,NLP\n",
        "\n",
        "\n",
        "2.   비지도 학습\n",
        "*   클러스터링\n",
        "*   차원 축소\n",
        "*   강화학습\n",
        "\n",
        "</br></br>\n",
        "\n",
        "[03] 데이터 전쟁\n",
        "\n",
        "*   머신러닝의 단점\n",
        "</br> -데이터에 의존적이다 : Garbage In, Garbage Out\n",
        "</br> - 알고리즘과 모델 파라미터 중요 but, 데이터 준비하는 능력이 더 중요할 수 있다.\n",
        "\n",
        "</br></br>\n",
        "\n",
        "[04] 넘파이 (Numerical Python)\n",
        "* 선형대수 기반의 프로그램을 위한 패키지\n",
        "\n",
        "* 루프를 사용하지 않고 배열 연산이 가능함\n",
        "</br> -> 대량 데이터 연산 가능\n",
        "\n",
        "* API 측면에서 판다스의 편리성에는 미치지 못함\n",
        "\n",
        "</br>\n",
        "\n",
        "1. 넘파이 ndarry 개요\n",
        "</br> ** shape : ndarray 크기\n",
        "\n",
        "\n",
        "\n",
        "\n",
        "\n",
        "\n"
      ],
      "metadata": {
        "id": "LI7fvW12ByvO"
      }
    },
    {
      "cell_type": "code",
      "source": [
        "import numpy as np\n",
        "\n",
        "array1 = np.array([1,2,3])\n",
        "print('array1 type:', type(array1))\n",
        "print('array1 array 형태:', array1.shape)\n",
        "\n",
        "\n",
        "array2 = np.array([[1,2,3],\n",
        "                  [2,3,4]])\n",
        "print('array2 type:', type(array2))\n",
        "print('array2 array 형태:', array2.shape)\n",
        "\n",
        "\n",
        "array3  = np.array([[1,2,3]])\n",
        "print('array3 type:', type(array3))\n",
        "print('array3 array 형태:', array3.shape)"
      ],
      "metadata": {
        "colab": {
          "base_uri": "https://localhost:8080/"
        },
        "id": "F1LVFv8BHaba",
        "outputId": "d564f2eb-164a-4b77-de77-efd7d2f0972b"
      },
      "execution_count": null,
      "outputs": [
        {
          "output_type": "stream",
          "name": "stdout",
          "text": [
            "array1 type: <class 'numpy.ndarray'>\n",
            "array1 array 형태: (3,)\n",
            "array2 type: <class 'numpy.ndarray'>\n",
            "array2 array 형태: (2, 3)\n",
            "array3 type: <class 'numpy.ndarray'>\n",
            "array3 array 형태: (1, 3)\n"
          ]
        }
      ]
    },
    {
      "cell_type": "markdown",
      "source": [
        "array1은 1차원의 array가 3개의 데이터를 가짐\n",
        "</br>\n",
        "array3은 2차원의 array로 1:row, 3:column을 가짐\n",
        "</br>\n",
        "array()는 리스트 객체가 주로 사용되며, []는 1차원, [[  ]]은 2차원 형태이다."
      ],
      "metadata": {
        "id": "KLs-G4lrJxRl"
      }
    },
    {
      "cell_type": "code",
      "source": [
        "print('array1:{:0}차원, array2:{:1}차원, array3:{:2}차원'.format(array1.ndim,array2.ndim,array3.ndim))"
      ],
      "metadata": {
        "colab": {
          "base_uri": "https://localhost:8080/"
        },
        "id": "PFKl1op9Kd0X",
        "outputId": "bc11a4f5-6073-492c-d103-ef85ae38780f"
      },
      "execution_count": null,
      "outputs": [
        {
          "output_type": "stream",
          "name": "stdout",
          "text": [
            "array1:1차원, array2:2차원, array3: 2차원\n"
          ]
        }
      ]
    },
    {
      "cell_type": "markdown",
      "source": [
        "2. ndarry의 데이터 타입</br>\n",
        ": 연산 내 같은 데이터 타입만 가능</br>\n",
        ": 다른 유형의 데이터가 섞여 있을 경우, 크기가 큰 데이터 타입으로 형변환이 일괄 적용 된다</br>\n",
        " -> int < unicode\n",
        "* 숫자형인 경우: </br>\n",
        " - int 형(8,16,32 bit) </br>\n",
        " - unsigned int 형(8,16,32 bit) </br>\n",
        " - float 형 (16,32,64,128 bit) </br>\n",
        " - complex 타입 : 더 큰 숫자값들을 위하여"
      ],
      "metadata": {
        "id": "8jR5d3RzLFuz"
      }
    },
    {
      "cell_type": "code",
      "source": [
        "list1 = [1,2,3]\n",
        "print(type(list1))\n",
        "array1 = np.array(list1)\n",
        "print(type(array1))\n",
        "print(array1,array1.dtype)"
      ],
      "metadata": {
        "colab": {
          "base_uri": "https://localhost:8080/"
        },
        "id": "4d-K93TLMD8F",
        "outputId": "4202e29a-d4c1-418e-f391-354305d882f5"
      },
      "execution_count": null,
      "outputs": [
        {
          "output_type": "stream",
          "name": "stdout",
          "text": [
            "<class 'list'>\n",
            "<class 'numpy.ndarray'>\n",
            "[1 2 3] int64\n"
          ]
        }
      ]
    },
    {
      "cell_type": "code",
      "source": [
        "list2 = [1,2,'test']\n",
        "array2 = np.array(list2)\n",
        "print(type(array2))\n",
        "print(array2,array2.dtype)\n",
        "\n",
        "list3 = [1,2,3.0]\n",
        "array3 = np.array(list3)\n",
        "print(array3,array3.dtype)"
      ],
      "metadata": {
        "colab": {
          "base_uri": "https://localhost:8080/"
        },
        "id": "bXqkfwBYQEnX",
        "outputId": "8e6dddbd-57ba-4a1c-b8df-25af49e718e9"
      },
      "execution_count": null,
      "outputs": [
        {
          "output_type": "stream",
          "name": "stdout",
          "text": [
            "<class 'numpy.ndarray'>\n",
            "['1' '2' 'test'] <U21\n",
            "[1. 2. 3.] float64\n"
          ]
        }
      ]
    },
    {
      "cell_type": "markdown",
      "source": [
        "- ndarray 타입 변경 : astype()"
      ],
      "metadata": {
        "id": "98_hYSc8S_3h"
      }
    },
    {
      "cell_type": "code",
      "source": [
        "array_int = np.array([1,2,3])\n",
        "array_float = array_int.astype('float64')\n",
        "print(array_float,array_float.dtype)\n",
        "\n",
        "array_int1 = array_float.astype('int32')\n",
        "print(array_int1,array_int1.dtype)\n",
        "\n",
        "array_float1 = np.array([1.1,2.1,3.1])\n",
        "array_int2 = array_float1.astype('int32')\n",
        "print(array_int2, array_int2.dtype)"
      ],
      "metadata": {
        "colab": {
          "base_uri": "https://localhost:8080/"
        },
        "id": "Ef0nkWn5RwY5",
        "outputId": "5abb4418-50cd-435e-9c39-4a783b6d8549"
      },
      "execution_count": null,
      "outputs": [
        {
          "output_type": "stream",
          "name": "stdout",
          "text": [
            "[1. 2. 3.] float64\n",
            "[1 2 3] int32\n",
            "[1 2 3] int32\n"
          ]
        }
      ]
    },
    {
      "cell_type": "markdown",
      "source": [
        "3. ndarray를 편리하게 생성하기 - arange, zeros, ones</br>\n",
        " : 연속값이나 0 또는 1로 초기화해 생성해야할 경우\n",
        "\n",
        "</br>\n",
        "\n",
        "- default 함수 인자 : stop</br>\n",
        " -> 0부터 stop 값인 10에서 -1을 더한 9까지의 연속 숫자 값으로 구성된 1차원 ndarray를 만들어 준다.\n"
      ],
      "metadata": {
        "id": "-Eb40jOtResM"
      }
    },
    {
      "cell_type": "code",
      "source": [
        "sequence_array = np.arange(10)\n",
        "print(sequence_array)\n",
        "print(sequence_array.dtype, sequence_array.shape)"
      ],
      "metadata": {
        "colab": {
          "base_uri": "https://localhost:8080/"
        },
        "id": "odGL3uGVUCmk",
        "outputId": "dc42da17-e664-43a9-def4-6f41e8453386"
      },
      "execution_count": null,
      "outputs": [
        {
          "output_type": "stream",
          "name": "stdout",
          "text": [
            "[0 1 2 3 4 5 6 7 8 9]\n",
            "int64 (10,)\n"
          ]
        }
      ]
    },
    {
      "cell_type": "markdown",
      "source": [
        "- zeros() </br>\n",
        " : 모든 값을 0으로 채운 해당 shape 를 가진 ndarray를 반환합니다</br>\n",
        "- ones()</br>\n",
        " : 모든 값을 1로 채운 해당 shape 를 가진 ndarray를 반환합니다.\n",
        "- default : float64"
      ],
      "metadata": {
        "id": "ioSgUWLUUX_V"
      }
    },
    {
      "cell_type": "code",
      "source": [
        "zero_array = np.zeros((3,2),dtype = 'int32')\n",
        "print(zero_array)\n",
        "print(zero_array.dtype,zero_array.shape)\n",
        "\n",
        "one_array = np.ones((3,2))\n",
        "print(one_array)\n",
        "print(one_array.dtype, one_array.shape)"
      ],
      "metadata": {
        "colab": {
          "base_uri": "https://localhost:8080/"
        },
        "id": "D9GHKFX4UiHh",
        "outputId": "073da53f-dd7a-45f0-fe1c-fd90301eed76"
      },
      "execution_count": null,
      "outputs": [
        {
          "output_type": "stream",
          "name": "stdout",
          "text": [
            "[[0 0]\n",
            " [0 0]\n",
            " [0 0]]\n",
            "int32 (3, 2)\n",
            "[[1. 1.]\n",
            " [1. 1.]\n",
            " [1. 1.]]\n",
            "float64 (3, 2)\n"
          ]
        }
      ]
    },
    {
      "cell_type": "markdown",
      "source": [
        "4. ndarray의 차원과 크기를 변경하는 reshape()</br>\n",
        " : 지정된 사이즈로 변경이 불가능하면 오류를 발생한다"
      ],
      "metadata": {
        "id": "GGoqXF9KWRAz"
      }
    },
    {
      "cell_type": "code",
      "source": [
        "array1 = np.arange(10)\n",
        "print('array1:\\n',array1)\n",
        "\n",
        "array2 = array1.reshape(2,5)\n",
        "print('array2:\\n', array2)\n",
        "\n",
        "array3 = array1.reshape(5,2)\n",
        "print('array3:\\n',array3)"
      ],
      "metadata": {
        "colab": {
          "base_uri": "https://localhost:8080/"
        },
        "id": "7yj80fTPWXoa",
        "outputId": "0d855a64-045e-46c2-fa46-264e0e347c50"
      },
      "execution_count": null,
      "outputs": [
        {
          "output_type": "stream",
          "name": "stdout",
          "text": [
            "array1:\n",
            " [0 1 2 3 4 5 6 7 8 9]\n",
            "array2:\n",
            " [[0 1 2 3 4]\n",
            " [5 6 7 8 9]]\n",
            "array3:\n",
            " [[0 1]\n",
            " [2 3]\n",
            " [4 5]\n",
            " [6 7]\n",
            " [8 9]]\n"
          ]
        }
      ]
    },
    {
      "cell_type": "code",
      "source": [
        "array1.reshape(4,3)"
      ],
      "metadata": {
        "colab": {
          "base_uri": "https://localhost:8080/",
          "height": 141
        },
        "id": "WZXBIqcGZbMA",
        "outputId": "5fac7d01-1dba-4be4-a1b1-cc855d4af10b"
      },
      "execution_count": null,
      "outputs": [
        {
          "output_type": "error",
          "ename": "ValueError",
          "evalue": "cannot reshape array of size 10 into shape (4,3)",
          "traceback": [
            "\u001b[0;31m---------------------------------------------------------------------------\u001b[0m",
            "\u001b[0;31mValueError\u001b[0m                                Traceback (most recent call last)",
            "\u001b[0;32m<ipython-input-12-a40469ec5825>\u001b[0m in \u001b[0;36m<cell line: 1>\u001b[0;34m()\u001b[0m\n\u001b[0;32m----> 1\u001b[0;31m \u001b[0marray1\u001b[0m\u001b[0;34m.\u001b[0m\u001b[0mreshape\u001b[0m\u001b[0;34m(\u001b[0m\u001b[0;36m4\u001b[0m\u001b[0;34m,\u001b[0m\u001b[0;36m3\u001b[0m\u001b[0;34m)\u001b[0m\u001b[0;34m\u001b[0m\u001b[0;34m\u001b[0m\u001b[0m\n\u001b[0m",
            "\u001b[0;31mValueError\u001b[0m: cannot reshape array of size 10 into shape (4,3)"
          ]
        }
      ]
    },
    {
      "cell_type": "markdown",
      "source": [
        "- reshape()을 효율적으로 사용하기 </br>\n",
        "  : 인자로 -1을 적용하는 경우 -> 원래 ndarray와 호환되는 새로운 shape로 변환해 줌\n"
      ],
      "metadata": {
        "id": "qZUxJxKfaUgi"
      }
    },
    {
      "cell_type": "code",
      "source": [
        "array1 = np.arange(10)\n",
        "print(array1)\n",
        "array2 = array1.reshape(-1,5)\n",
        "print('array2 shape:',array2.shape)\n",
        "array3 = array1.reshape(5,-1)\n",
        "print('array3 shape:', array3.shape)"
      ],
      "metadata": {
        "id": "ibdgNoxxalBx"
      },
      "execution_count": null,
      "outputs": []
    },
    {
      "cell_type": "markdown",
      "source": [
        "- n개의 1차원 데이터를 고정된 k개의 칼럼을 가진 로우로 변환이 안되면, 에러 발생"
      ],
      "metadata": {
        "id": "Bfh2KR5AbOCb"
      }
    },
    {
      "cell_type": "code",
      "source": [
        "array1 = np.arange(10)\n",
        "array4 = array1.reshape(-1,4)"
      ],
      "metadata": {
        "id": "U4bXlqTzbX3W"
      },
      "execution_count": null,
      "outputs": []
    },
    {
      "cell_type": "markdown",
      "source": [
        "- reshape(-1,1)</br>\n",
        "  : 원본 ndarray가 어떤 형태라도 2차원의 (,1)으로 변환됨을 보장함\n",
        "\n",
        "- stack , concat으로 결합할 때 ndarray의 형태 통일을 위해 유용하게 사용함\n",
        "\n",
        "- tolist()</br>\n",
        "  : 메서드를 이용해 리스트 자료형으로 변환 가능.</br>\n",
        "  : 시각적 이해를 위해서 리스트 자료형 이용"
      ],
      "metadata": {
        "id": "36qqtL67bgne"
      }
    },
    {
      "cell_type": "code",
      "source": [
        "array1 = np.arange(8)\n",
        "array3d = array1.reshape((2,2,2))\n",
        "print('array3d:\\n', array3d.tolist())\n",
        "\n",
        "#3차원 ndarray를 2차원 ndarray로 변환\n",
        "array5 = array3d.reshape(-1,1)\n",
        "print('array5:\\n', array5.tolist())\n",
        "print('array5 shape:', array5.shape)\n",
        "\n",
        "#1차원 ndarray를 2차원 ndarray로 변환\n",
        "array6 = array1.reshape(-1,1)\n",
        "print('array6:\\n', array6.tolist())\n",
        "print('array6 shape:', array6.shape)"
      ],
      "metadata": {
        "id": "_xwTAKGRcCKI"
      },
      "execution_count": null,
      "outputs": []
    },
    {
      "cell_type": "markdown",
      "source": [
        "5. 넘파이의 ndarray의 데이터 세트 선택하기 - 인덱싱(Indexing)</br>\n",
        "\n",
        "- 특정한 데이터만 추출</br>\n",
        " : 원하는 위치의 인덱스 값을 지정하면 해당 위치의 데이터가 반환된다\n",
        "- 슬라이싱(slicing) : 연속된 인덱스사으이 ndarray를 추출하는 방식</br>\n",
        " -> ':' 기호 사이에 시작 인덱스와 종료 인덱스를 표시하면 시작 인덱스에서 종료 인덱스-1 위치에 있는 데이터의 ndarray를 반환합니다.\n",
        "- 팬시 인덱싱(Fancy Indexing) </br>\n",
        ": 일정한 인덱싱 집합 형태로 지정해 해당 위치에 있는 데이터의 ndarray를 반환\n",
        "- 불린 인덱싱(Boolean Inddexing)\n",
        "</br> : 특정 조건에 해당하는지 여부인 Ture/False 값 인덱싱 집합을 기반으로 데이터 반환"
      ],
      "metadata": {
        "id": "8sEuouQddUmz"
      }
    },
    {
      "cell_type": "markdown",
      "source": [
        "- **단일 값 추출** : 한 개의 데이터만 추출하는 방법"
      ],
      "metadata": {
        "id": "FjJyHWbCfLby"
      }
    },
    {
      "cell_type": "code",
      "source": [
        "#1부터 9까지의 1차원 ndarray 생성\n",
        "array1 = np.arange(start=1,stop=10)\n",
        "print('array1:', array1)\n",
        "\n",
        "#index는 0부터 시작하므로 array1[2]는 3번쨰 index 위치의 데이터 값을 의미\n",
        "value = array1[2]\n",
        "print('value:',value)\n",
        "print(type(value))"
      ],
      "metadata": {
        "id": "TiuiG17afduH"
      },
      "execution_count": null,
      "outputs": []
    },
    {
      "cell_type": "markdown",
      "source": [
        "-인덱스는 0부터 시작하므로 array1[2]의 값은 3번쨰 인덱스 위치의 데이터값을 의미한다</br>\n",
        "-array1[2]의 타입은 더 이상 ndarray 타입이 아니고 ndarray 내의 데이터 값을 의미한다\n"
      ],
      "metadata": {
        "id": "3FOseEIHf2hV"
      }
    },
    {
      "cell_type": "markdown",
      "source": [
        "- 인덱스 -1은 맨 뒤의 데이터값을 의미한다.</br> -2는 맨 뒤에서 두 번째에 있는 데이터값이다"
      ],
      "metadata": {
        "id": "E-Lsi3MbgIrV"
      }
    },
    {
      "cell_type": "code",
      "source": [
        "print('맨 뒤의 값:', array1[-1], '맨 뒤에서 두 번째 값:', array1[-2])"
      ],
      "metadata": {
        "id": "obEufoRLgTCZ"
      },
      "execution_count": null,
      "outputs": []
    },
    {
      "cell_type": "markdown",
      "source": [
        "- 단일 인덱스를 이용한 ndarray 데이터값 수정"
      ],
      "metadata": {
        "id": "wxyWjCWPgmje"
      }
    },
    {
      "cell_type": "code",
      "source": [
        "array1[0] = 9\n",
        "array1[8] = 0\n",
        "print('array1:', array1)"
      ],
      "metadata": {
        "id": "r17BVow8gdTn"
      },
      "execution_count": null,
      "outputs": []
    },
    {
      "cell_type": "markdown",
      "source": [
        "- 다차원 ndarray에서 단일 값 추출하기</br>\n",
        " : 1차원과의 차이는 콤마(,)로 분리된 로우와 칼럼 위치의 인덱스를 통해 접근하는 것</br>\n",
        "- axis 0 : row / axis 1 : column</br>\n",
        " EX) [row=0, col=1] = [axis0=0, axis1=1]</br>\n",
        " EX) 3차원의 경우 : [axis 0, axis 1, axis 2]"
      ],
      "metadata": {
        "id": "ao9ojX4MgtMc"
      }
    },
    {
      "cell_type": "code",
      "source": [
        "array1d = np.arange(start=1,stop=10)\n",
        "array2d = array1d.reshape(3,3)\n",
        "print(array2d)\n",
        "\n",
        "print('(row=0, col=0) index 가리키는 값:', array2d[0,0])\n",
        "print('(row=0, col=1) index 가리키는 값:', array2d[0,1])\n",
        "print('(row=1, col=0) index 가리키는 값:', array2d[1,0])\n",
        "print('(row=2, col=2) index 가리키는 값:', array2d[2,2])"
      ],
      "metadata": {
        "id": "6LZn8UDGhBgz"
      },
      "execution_count": null,
      "outputs": []
    },
    {
      "cell_type": "markdown",
      "source": [
        "- **슬라이싱**</br>\n",
        " : ':' 기호를 이용해 연속한 데이터를 슬라이싱해서 추출할 수 있다.</br>\n",
        "  : 시작인덱스 ~ (종료인덱스-1) 반환"
      ],
      "metadata": {
        "id": "cBoZjpFQia78"
      }
    },
    {
      "cell_type": "code",
      "source": [
        "array1 = np.arange(start=1,stop=10)\n",
        "array3 = array1[0:3]\n",
        "print(array3)\n",
        "print(type(array3))"
      ],
      "metadata": {
        "id": "gyClLa8UitfS"
      },
      "execution_count": null,
      "outputs": []
    },
    {
      "cell_type": "markdown",
      "source": [
        "1. ':' 기호 앞에 시작 인덱스를 생략하면, 맨 처음 인덱스인 0으로 간주\n",
        "2. ':' 기호 뒤에 종료 인덱스를 생략하면, 맨 마지막 인덱스로 간주\n",
        "3. ':' 기호 앞/뒤에 시작/종료 인덱스를 생략하면, 자동으로 맨 처음/맨 마지막 인덱스로 간주"
      ],
      "metadata": {
        "id": "_9-qTUs_jDtM"
      }
    },
    {
      "cell_type": "code",
      "source": [
        "array1 = np.arange(start=1,stop=10)\n",
        "array4 = array1[:3]\n",
        "print(array4)\n",
        "\n",
        "array5 = array1[3:]\n",
        "print(array5)\n",
        "\n",
        "array6 = array1[:]\n",
        "print(array6)"
      ],
      "metadata": {
        "id": "f1eo75XUjXDz"
      },
      "execution_count": null,
      "outputs": []
    },
    {
      "cell_type": "markdown",
      "source": [
        "- 2차원 슬라이싱</br>\n",
        " : 2차원 뒤의 인덱스를 없애면 1차원을 반환</br>\n",
        "  EX) row 축의 첫 번째 row(axis0)를 반환함</br>\n",
        " : 3차원 뒤의 인덱스를 없애면 2차원을 반환"
      ],
      "metadata": {
        "id": "m-5PJRW3j1b5"
      }
    },
    {
      "cell_type": "code",
      "source": [
        "array1d = np.arange(start=1,stop=10)\n",
        "array2d = array1d.reshape(3,3)\n",
        "print('array2d:\\n', array2d)\n",
        "\n",
        "print('array2d[0:2,0:2] \\n', array2d[0:2,0:2])\n",
        "print('array2d[1:3,0:3] \\n', array2d[1:3,0:3])\n",
        "print('array2d[1:3,:] \\n', array2d[1:3,:])\n",
        "print('array2d[:,:] \\n', array2d[:,:])\n",
        "print('array2d[:2,1:] \\n', array2d[:2,1:])\n",
        "print('array2d[:2,0] \\n', array2d[:2,0])"
      ],
      "metadata": {
        "id": "L5v33HWAj37H"
      },
      "execution_count": null,
      "outputs": []
    },
    {
      "cell_type": "code",
      "source": [
        "print(array2d[0])\n",
        "print(array2d[1])\n",
        "print('array2d[0] shape:',array2d[0].shape,'array2d[1] shape:', array2d[1].shape)"
      ],
      "metadata": {
        "id": "dRKxBvCmlErs"
      },
      "execution_count": null,
      "outputs": []
    },
    {
      "cell_type": "markdown",
      "source": [
        "- **팬시 인덱싱(Fancy Indexing)**</br>\n",
        " : 인덱스 집합 지정시, 해당 위치의 인덱스에 해당하는 ndarray 반환함"
      ],
      "metadata": {
        "id": "vNvO546ClbPs"
      }
    },
    {
      "cell_type": "code",
      "source": [
        "array1d = np.arange(start=1,stop=10)\n",
        "array2d = array1d.reshape(3,3)\n",
        "\n",
        "array3 = array2d[[0,1],2]\n",
        "print('array2d[[0,1],2] =>', array3.tolist())\n",
        "\n",
        "array4 = array2d[[0,1], 0:2]\n",
        "print('array2d[[0,1], 0:2] =>', array4.tolist())\n",
        "\n",
        "array5 = array2d[[0,1]]\n",
        "print('array2d[[0,1]] =>', array5.tolist())"
      ],
      "metadata": {
        "id": "nCj1KAEylmc0"
      },
      "execution_count": null,
      "outputs": []
    },
    {
      "cell_type": "markdown",
      "source": [
        "- **불린 인덱싱(Boolean Indexing)**</br>\n",
        "  : 조건 필터링과 검색을 동시에 할 수 있다.</br>\n",
        "  : [  ] 내에 조건문을 그대로 기재하기만 하면 된다"
      ],
      "metadata": {
        "id": "VenbzPAfmS63"
      }
    },
    {
      "cell_type": "code",
      "source": [
        "array1d =np.arange(start=1,stop=10)\n",
        "#[  ] 안에 array1d > 5 Boolean indexxing을 적용\n",
        "array3 = array1d[array1d>5]\n",
        "print('array1d>5 불린 인덱싱 결과 값:', array3)"
      ],
      "metadata": {
        "id": "dMfwZ3kXmo8V"
      },
      "execution_count": null,
      "outputs": []
    },
    {
      "cell_type": "markdown",
      "source": [
        "-조건이 일어나는 법 알아보기"
      ],
      "metadata": {
        "id": "iCiKHMxknM5L"
      }
    },
    {
      "cell_type": "code",
      "source": [
        "array1d>5"
      ],
      "metadata": {
        "id": "mUQtuj05nItO"
      },
      "execution_count": null,
      "outputs": []
    },
    {
      "cell_type": "code",
      "source": [
        "boolean_indexes = np.array([False, False, False, False, False,  True,  True,  True,  True])\n",
        "array3 = array1d[boolean_indexes]\n",
        "print('불린 인덱스로 필터링 결과:', array3)"
      ],
      "metadata": {
        "id": "uvcY3Mp4nRG_"
      },
      "execution_count": null,
      "outputs": []
    },
    {
      "cell_type": "code",
      "source": [
        "indexes = np.array([5,6,7,8])\n",
        "array4 = array1d[indexes]\n",
        "print('일반 인덱스로 필터링 결과:', array4)"
      ],
      "metadata": {
        "id": "MRWp-brInhLP"
      },
      "execution_count": null,
      "outputs": []
    },
    {
      "cell_type": "markdown",
      "source": [
        "-Step1 : array1d>5 와 같이 ndarray의 필터링 조건을 [  ] 안에 기재</br>\n",
        "-Step2 : False 값은 무시하고 True 값에 해당하는 인덱스값만 저장(True 값 자체인 1을 저장하는 것이 아니라 True 값을 가진 인덱스를 저장한다는 것입니다)</br>\n",
        "-Step3 : 저장된 인덱스 데이터 세트로 ndarray 조회"
      ],
      "metadata": {
        "id": "F3rP1o58ntYs"
      }
    },
    {
      "cell_type": "markdown",
      "source": [
        "6. 행렬의 정렬 : sort()와 argsort()</br>\n",
        "- 행렬 정렬</br>\n",
        "  :np.sort( ) 넘파이에서 sort( )를 호출하는 방식</br>\n",
        "  -> 원 행렬 유지한 채 원 행렬의 정렬된 행렬 반환</br>\n",
        "  :ndarray.sort( ) 행렬자체에서 sort( )를 호출하는 방식</br>\n",
        "  -> 원 행렬 자체를 정렬한 형태로 변환. None으로 반환\n"
      ],
      "metadata": {
        "id": "NLEzmn_soPNR"
      }
    },
    {
      "cell_type": "code",
      "source": [
        "org_array = np.array([3,1,9,5])\n",
        "print('원본 행렬:', org_array)\n",
        "\n",
        "#np.sort( )로 정렬\n",
        "sort_array1 = np.sort(org_array)\n",
        "print('np.sort( ) 호출 후 반환된 정렬 행렬:', sort_array1)\n",
        "print('np.sort( ) 호출 후 원본 행렬:', org_array)\n",
        "\n",
        "#ndarray.sort( )로 정렬\n",
        "sort_array2 = org_array.sort()\n",
        "print('org_array.sort( )호출 후 반환된 행렬:', sort_array2)\n",
        "print('org_array.sort( )호출 후 원본 행렬:', org_array)"
      ],
      "metadata": {
        "id": "vERDTTHgos5Y"
      },
      "execution_count": null,
      "outputs": []
    },
    {
      "cell_type": "markdown",
      "source": [
        "- 내림차순 정렬은 [::-1]을 적용한다."
      ],
      "metadata": {
        "id": "868hKKzoqMAu"
      }
    },
    {
      "cell_type": "code",
      "source": [
        "sort_array1_desc = np.sort(org_array)[::-1]\n",
        "print('내림차순으로 정렬:', sort_array1_desc)"
      ],
      "metadata": {
        "id": "LNBnsejeqUJT"
      },
      "execution_count": null,
      "outputs": []
    },
    {
      "cell_type": "markdown",
      "source": [
        "- 행렬이 2차원 이상일 경우에는 axis 축 값 설정을 통해 로우 방향, 칼럼 방향으로 정렬을 수행할 수 있다"
      ],
      "metadata": {
        "id": "oZXSvAYaqeyc"
      }
    },
    {
      "cell_type": "code",
      "source": [
        "array2d = np.array([[8,12],\n",
        "                    [7,1]])\n",
        "\n",
        "sort_array2d_axis0 = np.sort(array2d,axis=0)\n",
        "print('로우 방향으로 정렬:\\n', sort_array2d_axis0)\n",
        "\n",
        "sort_array2d_axis1 = np.sort(array2d,axis=1)\n",
        "print('칼럼 방향으로 정렬:\\n', sort_array2d_axis1)"
      ],
      "metadata": {
        "id": "nymTFOlaqkZ7"
      },
      "execution_count": null,
      "outputs": []
    },
    {
      "cell_type": "markdown",
      "source": [
        "- 정렬된 행렬의 인덱스를 반환하기</br>\n",
        " : np.argsort( ) 이용하여 원본 행렬이 정렬되었을 때 기존 원본 행렬의 원소에 대한 인덱스를 반환"
      ],
      "metadata": {
        "id": "_57KXIF-8Glz"
      }
    },
    {
      "cell_type": "code",
      "source": [
        "org_array = np.array([3,1,9,5])\n",
        "sort_indicies = np.argsort(org_array)\n",
        "print(type(sort_indicies))\n",
        "print('행렬 정렬 시 원본 행렬의 인덱스:', sort_indicies)"
      ],
      "metadata": {
        "colab": {
          "base_uri": "https://localhost:8080/"
        },
        "id": "e22W18hH8XgX",
        "outputId": "11c9f053-b5e6-46c0-d625-d92e5189455a"
      },
      "execution_count": null,
      "outputs": [
        {
          "output_type": "stream",
          "name": "stdout",
          "text": [
            "<class 'numpy.ndarray'>\n",
            "행렬 정렬 시 원본 행렬의 인덱스: [1 0 3 2]\n"
          ]
        }
      ]
    },
    {
      "cell_type": "markdown",
      "source": [
        "- 내림차순 정렬은 역시 np.arrgsort( )[::-1] 적용한다"
      ],
      "metadata": {
        "id": "zyIZQu3L9OnF"
      }
    },
    {
      "cell_type": "code",
      "source": [
        "org_array = np.array([3,1,9,5])\n",
        "sort_indicies_desc = np.argsort(org_array)[::-1]\n",
        "print('행렬 내림차순 정렬 시 원본 행렬의 인덱스:', sort_indicies_desc)"
      ],
      "metadata": {
        "colab": {
          "base_uri": "https://localhost:8080/"
        },
        "id": "rkHZ4GIQ9UTc",
        "outputId": "df066273-47c6-4899-9f4f-00b5873854d9"
      },
      "execution_count": null,
      "outputs": [
        {
          "output_type": "stream",
          "name": "stdout",
          "text": [
            "행렬 내림차순 정렬 시 원본 행렬의 인덱스: [2 3 0 1]\n"
          ]
        }
      ]
    },
    {
      "cell_type": "markdown",
      "source": [
        "- argsort( ) </br>\n",
        " : 메타 데이터를 별도의 ndarray로 가져야 하는 넘파이에서 팬시 인덱스로 추출이 가능하게 해준다"
      ],
      "metadata": {
        "id": "jz35KFqlAfpF"
      }
    },
    {
      "cell_type": "code",
      "source": [
        "import numpy as np\n",
        "\n",
        "name_array = np.array(['John', 'Mike', 'Sarah', 'Kate', 'Samuel'])\n",
        "score_array = np.array([78, 95, 84, 98, 88])\n",
        "\n",
        "sort_indices_asc = np.argsort(score_array)\n",
        "print('성적 오름차순 정렬 시 score_array의 인덱스', sort_indices_asc)\n",
        "print('성적 오름차순으로 name_array의 이름 출력', name_array[sort_indices_asc])"
      ],
      "metadata": {
        "colab": {
          "base_uri": "https://localhost:8080/"
        },
        "id": "Br0XUf_AA9Qm",
        "outputId": "b9466aee-16d3-4d17-99bf-e07a17b31050"
      },
      "execution_count": null,
      "outputs": [
        {
          "output_type": "stream",
          "name": "stdout",
          "text": [
            "성적 오름차순 정렬 시 score_array의 인덱스 [0 2 4 1 3]\n",
            "성적 오름차순으로 name_array의 이름 출력 ['John' 'Sarah' 'Samuel' 'Mike' 'Kate']\n"
          ]
        }
      ]
    },
    {
      "cell_type": "markdown",
      "source": [
        "[05] 선형대수 연산 - 행렬 내적과 전치 행렬 구하기</br>\n",
        "- 행렬 내적(행렬 곱)</br>\n",
        " : 두 행렬 A와 B는 np.dot( )을 이용해 계산이 가능하다."
      ],
      "metadata": {
        "id": "32YzttqQB0qs"
      }
    },
    {
      "cell_type": "code",
      "source": [
        "A = np.array([[1,2,3],\n",
        "              [4,5,6]])\n",
        "B = np.array([[7,8],\n",
        "              [9,10],\n",
        "              [11,12]])\n",
        "dot_product = np.dot(A,B)\n",
        "print('행렬 내적 결과:\\n', dot_product)"
      ],
      "metadata": {
        "colab": {
          "base_uri": "https://localhost:8080/"
        },
        "id": "Oh9hOJJHCU1A",
        "outputId": "640faf56-e3a8-4161-c3c2-59af709651f9"
      },
      "execution_count": null,
      "outputs": [
        {
          "output_type": "stream",
          "name": "stdout",
          "text": [
            "행렬 내적 결과:\n",
            " [[ 58  64]\n",
            " [139 154]]\n"
          ]
        }
      ]
    },
    {
      "cell_type": "markdown",
      "source": [
        "- 전치행렬</br>\n",
        " : 원 행렬에서 행과 열 위치를 교환한 원소로 구성한 행렬을 그 행렬의 전치행렬이라고 함"
      ],
      "metadata": {
        "id": "hJGll_3hCfj8"
      }
    },
    {
      "cell_type": "code",
      "source": [
        "A = np.array([[1,2],\n",
        "              [3,4]])\n",
        "transpose_mat = np.transpose(A)\n",
        "print('A의 전치 행렬:\\n', transpose_mat)"
      ],
      "metadata": {
        "colab": {
          "base_uri": "https://localhost:8080/"
        },
        "id": "weimuebsCoX4",
        "outputId": "8bd96089-82d7-4c4f-b190-a808ceb3df32"
      },
      "execution_count": null,
      "outputs": [
        {
          "output_type": "stream",
          "name": "stdout",
          "text": [
            "A의 전치 행렬:\n",
            " [[1 3]\n",
            " [2 4]]\n"
          ]
        }
      ]
    }
  ]
}