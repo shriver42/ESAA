{
  "nbformat": 4,
  "nbformat_minor": 0,
  "metadata": {
    "colab": {
      "provenance": [],
      "authorship_tag": "ABX9TyOz37vTmjlP+UOju6sARfQV",
      "include_colab_link": true
    },
    "kernelspec": {
      "name": "python3",
      "display_name": "Python 3"
    },
    "language_info": {
      "name": "python"
    }
  },
  "cells": [
    {
      "cell_type": "markdown",
      "metadata": {
        "id": "view-in-github",
        "colab_type": "text"
      },
      "source": [
        "<a href=\"https://colab.research.google.com/github/shriver42/ESAA/blob/%ED%95%84%EC%82%AC-%EA%B3%BC%EC%A0%9C/0923_Assignment.ipynb\" target=\"_parent\"><img src=\"https://colab.research.google.com/assets/colab-badge.svg\" alt=\"Open In Colab\"/></a>"
      ]
    },
    {
      "cell_type": "markdown",
      "source": [
        "#08. 텍스트 분석"
      ],
      "metadata": {
        "id": "H45Swm2OV6Ey"
      }
    },
    {
      "cell_type": "markdown",
      "source": [
        "NLP :  머신이 인간의 언어를 이해하고 해석하는 데 중점</br>\n",
        " - 텍스트 분석을 향상하게 하는 기반 기술</br>\n",
        "\n",
        "텍스트 분석 : 텍스트 마이닝이라고도 불리며 비정형 텍스트에서 의미 있는 정보 추출하는 것에 중점</br>\n",
        " - 텍스트 분류 : 문서가 특정 분류 또는 카테고리에 속하는 것을 예측하는 기법\n",
        " - 감성 분석 : 텍스트에 나타나는 감정/판단/믿음 등의 주관적인 요소를 분석하는 기법\n",
        " - 텍스트 요약 : 텍스트 내에서 중요한 주제나 중심 사상을 추출하는 기법\n",
        " - 텍스트 군집화와 유사도 측정 : 비슷한 유형의 문서에 대해 군집화를 수행하는 기법"
      ],
      "metadata": {
        "id": "eTJUt6WfV_eF"
      }
    },
    {
      "cell_type": "markdown",
      "source": [
        "##1. 텍스트 분석 이해\n",
        ": 비정형 데이터인 텍스트를 분석하는 것</br>\n",
        ": 머신러닝에서는 숫자형의 피처 기반 데이터만 입력을 받을 수 있기에 이에 맞게 피처 백터화를 해주어야 한다</br>\n",
        ": 대표적으로는 BOW(Bag of Words)와 Word2Vec 방법이 있다"
      ],
      "metadata": {
        "id": "fIgMRz_g95wo"
      }
    },
    {
      "cell_type": "markdown",
      "source": [
        "**텍스트 분석 수행 프로세스**\n",
        "1. 텍스트 사전 준비작업(텍스트 전처리)\n",
        "2. 피처 백터화/추출\n",
        "3. ML 모델 수립 및 학습/예측/평가"
      ],
      "metadata": {
        "id": "XihinYnQ-qU8"
      }
    },
    {
      "cell_type": "markdown",
      "source": [
        "**텍스트 분석 패키지**\n",
        "1. NLTK(Natural Language Toolkit for Python) : 가장 대표적인 NLP 패키지\n",
        "2. Gensim : 토픽 모델링 분야에서 가장 두각을 나타내는 패키지\n",
        "3. SpaCy : 뛰어난 수행 성능으로 최근 들어 주목을 받고 있다"
      ],
      "metadata": {
        "id": "ZV4YRw0n-4Pk"
      }
    },
    {
      "cell_type": "markdown",
      "source": [
        "##2. 텍스트 사전 준비 작업(텍스트 전처리) - 텍스트 정규화\n",
        "\n",
        " - 클렌징 : 불필요한 문자, 기호 등을 제거하는 작업\n",
        " - 토큰화 : 문장을 분리하는 문장 토큰화, 문장에서 단어를 토큰으로 분리하는 단어 토큰화 존재\n",
        "  - 문장 토큰화 : 문장의 마침표(.), 개행문자(\\n) 등 문장의 마지막을 뜻하는 기호에 따라 분리.\n",
        "  - 단어 토큰화 : 문장을 단어로 토큰화 하는 것으로 공백, 콤마(,), 마침표(.) 등으로 단어를 분리하지만, 정규 표현식을 통해 다양한 유형의 토큰화가 가능하다\n",
        " - 필터링/스톱 워드 제거/철자 수정\n",
        " - Stemming\n",
        " - Lemmatization"
      ],
      "metadata": {
        "id": "mKUH54M0_R7_"
      }
    },
    {
      "cell_type": "markdown",
      "source": [
        "NTLK에서 자주 사용되는 sent_tokenize로 토큰화 실행"
      ],
      "metadata": {
        "id": "OPBjOFH2_9Gj"
      }
    },
    {
      "cell_type": "code",
      "execution_count": null,
      "metadata": {
        "colab": {
          "base_uri": "https://localhost:8080/"
        },
        "id": "qB55gXJDUwLl",
        "outputId": "cc78ee75-fa71-4d4a-c8c8-3bee5e213943"
      },
      "outputs": [
        {
          "output_type": "stream",
          "name": "stderr",
          "text": [
            "[nltk_data] Downloading package punkt to /root/nltk_data...\n",
            "[nltk_data]   Unzipping tokenizers/punkt.zip.\n"
          ]
        },
        {
          "output_type": "stream",
          "name": "stdout",
          "text": [
            "<class 'list'> 3\n",
            "['The Matrix is everywhere its all around us, here even in this room.', 'You can see it out your window or on your television.', 'You feel it when you go to work, or go to church or pay your taxes.']\n"
          ]
        }
      ],
      "source": [
        "from nltk import sent_tokenize\n",
        "import nltk\n",
        "nltk.download('punkt')\n",
        "text_sample = 'The Matrix is everywhere its all around us, here even in this room. \\\n",
        "You can see it out your window or on your television. \\\n",
        "You feel it when you go to work, or go to church or pay your taxes.'\n",
        "sentences = sent_tokenize(text=text_sample)\n",
        "print(type(sentences), len(sentences))\n",
        "print(sentences)"
      ]
    },
    {
      "cell_type": "markdown",
      "source": [
        "NTLK에서 기본적으로 제공하는 word_tokenize로 단어 토큰화 진행"
      ],
      "metadata": {
        "id": "1Tj_LtUCAT7j"
      }
    },
    {
      "cell_type": "code",
      "source": [
        "from nltk import word_tokenize\n",
        "\n",
        "sentence = \"The Matrix is everywhere its all around us, here even in this room.\"\n",
        "words = word_tokenize(sentence)\n",
        "print(type(words), len(words))\n",
        "print(words)"
      ],
      "metadata": {
        "colab": {
          "base_uri": "https://localhost:8080/"
        },
        "id": "PimNbvN-U1un",
        "outputId": "e8ad669f-83ba-4783-cf47-0f7a1599cfe9"
      },
      "execution_count": null,
      "outputs": [
        {
          "output_type": "stream",
          "name": "stdout",
          "text": [
            "<class 'list'> 15\n",
            "['The', 'Matrix', 'is', 'everywhere', 'its', 'all', 'around', 'us', ',', 'here', 'even', 'in', 'this', 'room', '.']\n"
          ]
        }
      ]
    },
    {
      "cell_type": "code",
      "source": [
        "#모든 단어를 토큰화하기\n",
        "\n",
        "from nltk import word_tokenize, sent_tokenize\n",
        "# 여러 개의 문장으로 된 입력 데이터를 문장별로 단어 토큰화하게 만드는 함수 생성\n",
        "def tokenize_text(text):\n",
        "\n",
        "  # 문장별로 분리 토큰\n",
        "  sentences = sent_tokenize(text)\n",
        "  # 분리된 문장별 단어 토큰화\n",
        "  word_tokens = [word_tokenize(sentence) for sentence in sentences]\n",
        "  return word_tokens\n",
        "\n",
        "#여러 문장에 대해 문장별 단어 토큰화 수행.\n",
        "word_tokens = tokenize_text(text_sample)\n",
        "print(type(word_tokens), len(word_tokens))\n",
        "print(word_tokens)"
      ],
      "metadata": {
        "colab": {
          "base_uri": "https://localhost:8080/"
        },
        "id": "KMTv7OpAU5dT",
        "outputId": "f8817964-0ee9-431e-de17-50262d6c4299"
      },
      "execution_count": null,
      "outputs": [
        {
          "output_type": "stream",
          "name": "stdout",
          "text": [
            "<class 'list'> 3\n",
            "[['The', 'Matrix', 'is', 'everywhere', 'its', 'all', 'around', 'us', ',', 'here', 'even', 'in', 'this', 'room', '.'], ['You', 'can', 'see', 'it', 'out', 'your', 'window', 'or', 'on', 'your', 'television', '.'], ['You', 'feel', 'it', 'when', 'you', 'go', 'to', 'work', ',', 'or', 'go', 'to', 'church', 'or', 'pay', 'your', 'taxes', '.']]\n"
          ]
        }
      ]
    },
    {
      "cell_type": "markdown",
      "source": [
        "**스톱 워드 제거**\n",
        "스톱 워드 : 분석에 큰 의미가 없는 단어</br>\n",
        "문장을 구성하는데 필수적이지만, 큰 의미가 없는 단어로 is, the, a 등이 될 수 있다."
      ],
      "metadata": {
        "id": "Ixs0wzv8U8YN"
      }
    },
    {
      "cell_type": "code",
      "source": [
        "import nltk\n",
        "nltk.download('stopwords')"
      ],
      "metadata": {
        "colab": {
          "base_uri": "https://localhost:8080/"
        },
        "id": "2T8MY8oAU_HU",
        "outputId": "abc2e362-c930-496f-b16e-98993476d1bf"
      },
      "execution_count": null,
      "outputs": [
        {
          "output_type": "stream",
          "name": "stderr",
          "text": [
            "[nltk_data] Downloading package stopwords to /root/nltk_data...\n",
            "[nltk_data]   Unzipping corpora/stopwords.zip.\n"
          ]
        },
        {
          "output_type": "execute_result",
          "data": {
            "text/plain": [
              "True"
            ]
          },
          "metadata": {},
          "execution_count": 4
        }
      ]
    },
    {
      "cell_type": "code",
      "source": [
        "print('영어 stop words 개수:', len(nltk.corpus.stopwords.words('english')))\n",
        "print(nltk.corpus.stopwords.words('english')[:20])"
      ],
      "metadata": {
        "colab": {
          "base_uri": "https://localhost:8080/"
        },
        "id": "ZVietWemVBXN",
        "outputId": "838f7e8c-74a6-499b-d283-ac75e2826bb6"
      },
      "execution_count": null,
      "outputs": [
        {
          "output_type": "stream",
          "name": "stdout",
          "text": [
            "영어 stop words 개수: 179\n",
            "['i', 'me', 'my', 'myself', 'we', 'our', 'ours', 'ourselves', 'you', \"you're\", \"you've\", \"you'll\", \"you'd\", 'your', 'yours', 'yourself', 'yourselves', 'he', 'him', 'his']\n"
          ]
        }
      ]
    },
    {
      "cell_type": "code",
      "source": [
        "import nltk\n",
        "\n",
        "stopwords = nltk.corpus.stopwords.words('english')\n",
        "all_tokens = []\n",
        "# 위 예제에서 3개의 문장별로 얻은 word_tokens list에 대해 스톱 워드를 제거하는 반복문\n",
        "for sentence in word_tokens:\n",
        "  filtered_words=[]\n",
        "# 개별 문장별로 토큰화된 문장 list에 대해 스톱 워드를 제거하는 반복문\n",
        "for word in sentence:\n",
        "  # 소문자로 모두 변환합니다.\n",
        "  word = word.lower()\n",
        "  # 토큰화된 개별 단어가 스톱 워드의 단어에 포함되지 않으면 word_tokens에 추가\n",
        "  if word not in stopwords:\n",
        "      filtered_words.append(word)\n",
        "  all_tokens.append(filtered_words)\n",
        "\n",
        "print(all_tokens)"
      ],
      "metadata": {
        "colab": {
          "base_uri": "https://localhost:8080/"
        },
        "id": "KbJq0cMAVC1M",
        "outputId": "dbbd74f9-22c8-4a5f-8b57-3be3883445a2"
      },
      "execution_count": null,
      "outputs": [
        {
          "output_type": "stream",
          "name": "stdout",
          "text": [
            "[['feel', 'go', 'work', ',', 'go', 'church', 'pay', 'taxes', '.'], ['feel', 'go', 'work', ',', 'go', 'church', 'pay', 'taxes', '.'], ['feel', 'go', 'work', ',', 'go', 'church', 'pay', 'taxes', '.'], ['feel', 'go', 'work', ',', 'go', 'church', 'pay', 'taxes', '.'], ['feel', 'go', 'work', ',', 'go', 'church', 'pay', 'taxes', '.'], ['feel', 'go', 'work', ',', 'go', 'church', 'pay', 'taxes', '.'], ['feel', 'go', 'work', ',', 'go', 'church', 'pay', 'taxes', '.'], ['feel', 'go', 'work', ',', 'go', 'church', 'pay', 'taxes', '.'], ['feel', 'go', 'work', ',', 'go', 'church', 'pay', 'taxes', '.'], ['feel', 'go', 'work', ',', 'go', 'church', 'pay', 'taxes', '.'], ['feel', 'go', 'work', ',', 'go', 'church', 'pay', 'taxes', '.'], ['feel', 'go', 'work', ',', 'go', 'church', 'pay', 'taxes', '.'], ['feel', 'go', 'work', ',', 'go', 'church', 'pay', 'taxes', '.'], ['feel', 'go', 'work', ',', 'go', 'church', 'pay', 'taxes', '.'], ['feel', 'go', 'work', ',', 'go', 'church', 'pay', 'taxes', '.'], ['feel', 'go', 'work', ',', 'go', 'church', 'pay', 'taxes', '.'], ['feel', 'go', 'work', ',', 'go', 'church', 'pay', 'taxes', '.'], ['feel', 'go', 'work', ',', 'go', 'church', 'pay', 'taxes', '.']]\n"
          ]
        }
      ]
    },
    {
      "cell_type": "markdown",
      "source": [
        "**Stemming과 Lemmatization**</br>\n",
        ": 문법적 또는 의미적으로 변화하는 단어의 원형을 찾는 것이다.</br>\n",
        "- Lemmatization이 Stemming보다 정교하며 의미론적인 기반에서의 단어의 원형을 찾는다\n",
        "- NLTK가 제공하는 Stemer : Porter, Lancaster, Snowball Stemmer\n",
        "- NLTK가 제공하는 Lemmatization : WordNetLemmatizer\n",
        "\n",
        "\n"
      ],
      "metadata": {
        "id": "SYrStNKMVF1O"
      }
    },
    {
      "cell_type": "code",
      "source": [
        "from nltk.stem import LancasterStemmer\n",
        "stemmer = LancasterStemmer()\n",
        "\n",
        "print(stemmer.stem('working'), stemmer.stem('works'), stemmer.stem('worked'))\n",
        "print(stemmer.stem('amusing'), stemmer.stem('amuses'), stemmer.stem('amused'))\n",
        "print(stemmer.stem('happier'), stemmer.stem('happiest'))\n",
        "print(stemmer.stem('fancier'), stemmer.stem('fanciest'))"
      ],
      "metadata": {
        "colab": {
          "base_uri": "https://localhost:8080/"
        },
        "id": "CgSSLWTPVEsu",
        "outputId": "d78fc6ed-a3aa-4f47-f9f7-dad9642a516c"
      },
      "execution_count": null,
      "outputs": [
        {
          "output_type": "stream",
          "name": "stdout",
          "text": [
            "work work work\n",
            "amus amus amus\n",
            "happy happiest\n",
            "fant fanciest\n"
          ]
        }
      ]
    },
    {
      "cell_type": "code",
      "source": [
        "from nltk.stem import WordNetLemmatizer\n",
        "import nltk\n",
        "nltk.download('wordnet')\n",
        "\n",
        "lemma = WordNetLemmatizer()\n",
        "print(lemma.lemmatize('amusing', 'v'), lemma.lemmatize('amuses', 'v'), lemma.lemmatize('amused', 'v'))\n",
        "print(lemma.lemmatize('happier', 'a'), lemma.lemmatize('happiest', 'a'))\n",
        "print(lemma.lemmatize('fancier', 'a'), lemma.lemmatize('fanciest', 'a'))"
      ],
      "metadata": {
        "colab": {
          "base_uri": "https://localhost:8080/"
        },
        "id": "dCmXwgGWVIpf",
        "outputId": "5e40a97d-6e02-4729-921f-441dc8c13644"
      },
      "execution_count": null,
      "outputs": [
        {
          "output_type": "stream",
          "name": "stderr",
          "text": [
            "[nltk_data] Downloading package wordnet to /root/nltk_data...\n"
          ]
        },
        {
          "output_type": "stream",
          "name": "stdout",
          "text": [
            "amuse amuse amuse\n",
            "happy happy\n",
            "fancy fancy\n"
          ]
        }
      ]
    },
    {
      "cell_type": "markdown",
      "source": [
        "##3. BOW : Bag of Words\n",
        " : 문서가 가지는 모든 단어를 문맥이나 순서를 무시하고 일괄적으로 단어에 대한 빈도 값을 부여해 피처 값을 추출</br>\n",
        " BOW의 단점 :\n",
        "  - 문맥 의미 반영 부족 : 단어 순서를 고려하지 않기 때문에 발생\n",
        "  - 희소 행렬 문제"
      ],
      "metadata": {
        "id": "B-4-8oMGVKvr"
      }
    },
    {
      "cell_type": "markdown",
      "source": [
        "**BOW 피처 백터화** </br>\n",
        " : 머신 러닝 알고리즘은 일반적으로 피처를 데이터로 입력받아 동작하기 때문에 텍스트와 같은 데이터는 머신러닝 알고리즘에 바로 입력할 수가 없다.</br>\n",
        "텍스트는 특정 의미를 가지는 숫자형 값인 벡터 값으로 변환해야 하는데, 이러한 변환을 피처 백터화라고 한다.</br>\n",
        "  - 카운트 기반의 백터화\n",
        "  - TF - IDF(Term Frequency - Inverse Document Frequency) 기반의 백터화"
      ],
      "metadata": {
        "id": "J9kLVQsZCNVY"
      }
    },
    {
      "cell_type": "markdown",
      "source": [
        "**사이킷런의 Count 및 TF-IDF 백터화 구현 : CountVectorizer, Tfid**"
      ],
      "metadata": {
        "id": "n79kTuKKC63o"
      }
    },
    {
      "cell_type": "markdown",
      "source": [
        "**BOW 백터화를 위한 희소 행렬**"
      ],
      "metadata": {
        "id": "Cwd0uH0kD1PU"
      }
    },
    {
      "cell_type": "markdown",
      "source": [
        "**희소 행렬 - COO 형식**"
      ],
      "metadata": {
        "id": "LpFYDvg0D1MX"
      }
    },
    {
      "cell_type": "code",
      "source": [
        "import numpy as np\n",
        "\n",
        "dense = np.array( [ [3, 0, 1 ], [0, 2, 0] ] )\n",
        "\n",
        "from scipy import sparse\n",
        "#0이 아닌 데이터 추출\n",
        "data = np.array([3, 1, 2])\n",
        "\n",
        "#행 위치와 열 위치를 각각 배열로 생성\n",
        "row_pos = np.array([0, 0, 1 ])\n",
        "col_pos = np.array([0, 2, 1])\n",
        "\n",
        "#sparse 패키지의 coo_matrix를 이용해 COO 형식으로 희소 행렬 생성\n",
        "sparse_coo = sparse.coo_matrix((data, (row_pos, col_pos)))"
      ],
      "metadata": {
        "id": "JchqWPWRVPRt"
      },
      "execution_count": 9,
      "outputs": []
    },
    {
      "cell_type": "code",
      "source": [
        "sparse_coo.toarray()"
      ],
      "metadata": {
        "id": "ETlZVWYzVQh_",
        "colab": {
          "base_uri": "https://localhost:8080/"
        },
        "outputId": "774bd681-022c-4a0f-af7a-cb479fdfeff0"
      },
      "execution_count": 10,
      "outputs": [
        {
          "output_type": "execute_result",
          "data": {
            "text/plain": [
              "array([[3, 0, 1],\n",
              "       [0, 2, 0]])"
            ]
          },
          "metadata": {},
          "execution_count": 10
        }
      ]
    },
    {
      "cell_type": "markdown",
      "source": [
        "**희소 행렬 - CSR 형식**"
      ],
      "metadata": {
        "id": "6An3APvsVSe7"
      }
    },
    {
      "cell_type": "code",
      "source": [
        "#2차원 배열\n",
        "[[0, 0, 1, 0, 0, 5], [1, 4, 0, 3, 2, 5], [0, 6, 0, 3, 0, 0], [2, 0, 0, 0, 0, 0], [0, 0, 0, 7, 0, 8], [1, 0, 0, 0, 0, 0]]"
      ],
      "metadata": {
        "id": "eQrVAyfcVSSl",
        "colab": {
          "base_uri": "https://localhost:8080/"
        },
        "outputId": "9e60946b-b415-4be5-cbd6-74a499ac66a7"
      },
      "execution_count": 11,
      "outputs": [
        {
          "output_type": "execute_result",
          "data": {
            "text/plain": [
              "[[0, 0, 1, 0, 0, 5],\n",
              " [1, 4, 0, 3, 2, 5],\n",
              " [0, 6, 0, 3, 0, 0],\n",
              " [2, 0, 0, 0, 0, 0],\n",
              " [0, 0, 0, 7, 0, 8],\n",
              " [1, 0, 0, 0, 0, 0]]"
            ]
          },
          "metadata": {},
          "execution_count": 11
        }
      ]
    },
    {
      "cell_type": "code",
      "source": [
        "from scipy import sparse\n",
        "dense2 = np.array([[0, 0, 1, 0, 0, 5],\n",
        "                    [1, 4, 0, 3, 2, 5],\n",
        "                    [0, 6, 0, 3, 0, 0],\n",
        "                    [2, 0, 0, 0, 0, 0],\n",
        "                    [0, 0, 0, 7, 0, 8],\n",
        "                    [1, 0, 0, 0, 0, 0]])\n",
        "\n",
        "#0이 아닌 데이터 추출\n",
        "data2 = np.array([1, 5, 1, 4, 3, 2, 5, 6, 3, 2, 7, 8, 1 ])\n",
        "\n",
        "#행 위치와 열 위치를 각각 array로 생성\n",
        "row_pos = np.array([0, 0, 1, 1, 1, 1, 1, 2, 2, 3, 4, 4, 5])\n",
        "col_pos = np.array([2, 5, 0, 1, 3, 4, 5, 1, 3, 0, 3, 5, 0])\n",
        "\n",
        "#COO 형식으로 변환\n",
        "sparse_coo = sparse.coo_matrix((data2, (row_pos, col_pos)))\n",
        "\n",
        "#행 위치 배열의 고유한 값의 시작 위치 인덱스를 배열로 생성\n",
        "row_pos_ind = np.array([0, 2, 7, 9, 10, 12, 13])\n",
        "\n",
        "#CSR 형식으로 변환\n",
        "sparse_csr = sparse.csr_matrix((data2, col_pos, row_pos_ind))\n",
        "print('COO 변환된 데이터가 제대로 되었는지 다시 Dense로 출력 확인')\n",
        "print(sparse_coo.toarray())\n",
        "print('CSR 변환된 데이터가 제대로 되었는지 다시 Dense로 출력 확인')\n",
        "print(sparse_csr.toarray())"
      ],
      "metadata": {
        "id": "iV5z6T2CVT2r",
        "colab": {
          "base_uri": "https://localhost:8080/"
        },
        "outputId": "cd67e50f-45b0-4cfd-8fd0-b835dd85ad13"
      },
      "execution_count": 13,
      "outputs": [
        {
          "output_type": "stream",
          "name": "stdout",
          "text": [
            "COO 변환된 데이터가 제대로 되었는지 다시 Dense로 출력 확인\n",
            "[[0 0 1 0 0 5]\n",
            " [1 4 0 3 2 5]\n",
            " [0 6 0 3 0 0]\n",
            " [2 0 0 0 0 0]\n",
            " [0 0 0 7 0 8]\n",
            " [1 0 0 0 0 0]]\n",
            "CSR 변환된 데이터가 제대로 되었는지 다시 Dense로 출력 확인\n",
            "[[0 0 1 0 0 5]\n",
            " [1 4 0 3 2 5]\n",
            " [0 6 0 3 0 0]\n",
            " [2 0 0 0 0 0]\n",
            " [0 0 0 7 0 8]\n",
            " [1 0 0 0 0 0]]\n"
          ]
        }
      ]
    },
    {
      "cell_type": "code",
      "source": [
        "dense3 = np.array([[0, 0, 1, 0, 0, 5],\n",
        "                    [1, 4, 0, 3, 2, 5],\n",
        "                    [0, 6, 0, 3, 0, 0],\n",
        "                    [2, 0, 0, 0, 0, 0],\n",
        "                    [0, 0, 0, 7, 0, 8],\n",
        "                    [1, 0, 0, 0, 0, 0]])\n",
        "\n",
        "coo = sparse.coo_matrix(dense3)\n",
        "csr = sparse.csr_matrix(dense3)"
      ],
      "metadata": {
        "id": "Cml1dk5oVX__"
      },
      "execution_count": 14,
      "outputs": []
    }
  ]
}