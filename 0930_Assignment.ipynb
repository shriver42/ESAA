{
  "nbformat": 4,
  "nbformat_minor": 0,
  "metadata": {
    "colab": {
      "provenance": [],
      "authorship_tag": "ABX9TyN6QBbAMl6MAPPTDStAQj6b",
      "include_colab_link": true
    },
    "kernelspec": {
      "name": "python3",
      "display_name": "Python 3"
    },
    "language_info": {
      "name": "python"
    }
  },
  "cells": [
    {
      "cell_type": "markdown",
      "metadata": {
        "id": "view-in-github",
        "colab_type": "text"
      },
      "source": [
        "<a href=\"https://colab.research.google.com/github/shriver42/ESAA/blob/%ED%95%84%EC%82%AC-%EA%B3%BC%EC%A0%9C/0930_Assignment.ipynb\" target=\"_parent\"><img src=\"https://colab.research.google.com/assets/colab-badge.svg\" alt=\"Open In Colab\"/></a>"
      ]
    },
    {
      "cell_type": "markdown",
      "source": [
        "##토픽 모델링(Topic Modeling) - 20 뉴스그룹\n",
        "토픽 모델링 : 문서 집합에 숨어있는 주제를 찾아내는 것</br>\n",
        "머신러닝 기반의 토픽 모델링을 적용해 숨어 있는 중요 주제를 효과적으로 찾아내기</br>\n",
        "LSA(Latent Semantic Analysis), LDA(Latent Ddirichlet Allocation)"
      ],
      "metadata": {
        "id": "NaSkP8stFKBx"
      }
    },
    {
      "cell_type": "markdown",
      "source": [
        "사이킷런에서는 LDA기반의 토픽 모델링을 LatentDirichletAllocation 클래스로 제공한다"
      ],
      "metadata": {
        "id": "5GYz2F4sFl0x"
      }
    },
    {
      "cell_type": "code",
      "execution_count": null,
      "metadata": {
        "colab": {
          "base_uri": "https://localhost:8080/"
        },
        "id": "0DJx5gj8EfE6",
        "outputId": "ff2d88fc-a6de-4807-b411-caa4d955254b"
      },
      "outputs": [
        {
          "output_type": "stream",
          "name": "stdout",
          "text": [
            "CountVectorizer Shape: (7862, 1000)\n"
          ]
        }
      ],
      "source": [
        "from sklearn.datasets import fetch_20newsgroups\n",
        "from sklearn.feature_extraction.text import CountVectorizer\n",
        "from sklearn.decomposition import LatentDirichletAllocation\n",
        "# 모터사이클, 야구, 그래픽스, 윈도우즈, 중동, 기독교, 전자공학, 의학 8개 주제를 추출.\n",
        "cats = ['rec.motorcycles', 'rec.sport.baseball', 'comp.graphics', 'comp.windows.x',\n",
        "        'talk.politics.mideast', 'soc.religion.christian', 'sci.electronics', 'sci.med']\n",
        "\n",
        "# 위에서 cats 변수로 기재된 카테고리만 추출. featch_20newsgroups( )의 categories에 cats 입력\n",
        "news_df= fetch_20newsgroups(subset = 'all', remove=('headers', 'footers', 'quotes'),\n",
        "                            categories=cats, random_state=0)\n",
        "\n",
        "# LDA는 Count 기반의 벡터화만 적용합니다.\n",
        "count_vect = CountVectorizer(max_df=0.95, max_features = 1000,  min_df=2, stop_words='english',\n",
        "                             ngram_range=(1, 2))\n",
        "\n",
        "feat_vect = count_vect.fit_transform(news_df.data)\n",
        "print('CountVectorizer Shape:', feat_vect.shape)"
      ]
    },
    {
      "cell_type": "markdown",
      "source": [
        "n_componetns 파라미터를 통해 이 토픽 개수를 조정한다"
      ],
      "metadata": {
        "id": "_10aXHrfGT6J"
      }
    },
    {
      "cell_type": "code",
      "source": [
        "lda = LatentDirichletAllocation(n_components = 8, random_state = 0)\n",
        "lda.fit(feat_vect)"
      ],
      "metadata": {
        "colab": {
          "base_uri": "https://localhost:8080/",
          "height": 80
        },
        "id": "Xzfx8U-NGYbl",
        "outputId": "e7673733-9cd8-4f7a-94ba-6033bb1b01b9"
      },
      "execution_count": null,
      "outputs": [
        {
          "output_type": "execute_result",
          "data": {
            "text/plain": [
              "LatentDirichletAllocation(n_components=8, random_state=0)"
            ],
            "text/html": [
              "<style>#sk-container-id-1 {\n",
              "  /* Definition of color scheme common for light and dark mode */\n",
              "  --sklearn-color-text: black;\n",
              "  --sklearn-color-line: gray;\n",
              "  /* Definition of color scheme for unfitted estimators */\n",
              "  --sklearn-color-unfitted-level-0: #fff5e6;\n",
              "  --sklearn-color-unfitted-level-1: #f6e4d2;\n",
              "  --sklearn-color-unfitted-level-2: #ffe0b3;\n",
              "  --sklearn-color-unfitted-level-3: chocolate;\n",
              "  /* Definition of color scheme for fitted estimators */\n",
              "  --sklearn-color-fitted-level-0: #f0f8ff;\n",
              "  --sklearn-color-fitted-level-1: #d4ebff;\n",
              "  --sklearn-color-fitted-level-2: #b3dbfd;\n",
              "  --sklearn-color-fitted-level-3: cornflowerblue;\n",
              "\n",
              "  /* Specific color for light theme */\n",
              "  --sklearn-color-text-on-default-background: var(--sg-text-color, var(--theme-code-foreground, var(--jp-content-font-color1, black)));\n",
              "  --sklearn-color-background: var(--sg-background-color, var(--theme-background, var(--jp-layout-color0, white)));\n",
              "  --sklearn-color-border-box: var(--sg-text-color, var(--theme-code-foreground, var(--jp-content-font-color1, black)));\n",
              "  --sklearn-color-icon: #696969;\n",
              "\n",
              "  @media (prefers-color-scheme: dark) {\n",
              "    /* Redefinition of color scheme for dark theme */\n",
              "    --sklearn-color-text-on-default-background: var(--sg-text-color, var(--theme-code-foreground, var(--jp-content-font-color1, white)));\n",
              "    --sklearn-color-background: var(--sg-background-color, var(--theme-background, var(--jp-layout-color0, #111)));\n",
              "    --sklearn-color-border-box: var(--sg-text-color, var(--theme-code-foreground, var(--jp-content-font-color1, white)));\n",
              "    --sklearn-color-icon: #878787;\n",
              "  }\n",
              "}\n",
              "\n",
              "#sk-container-id-1 {\n",
              "  color: var(--sklearn-color-text);\n",
              "}\n",
              "\n",
              "#sk-container-id-1 pre {\n",
              "  padding: 0;\n",
              "}\n",
              "\n",
              "#sk-container-id-1 input.sk-hidden--visually {\n",
              "  border: 0;\n",
              "  clip: rect(1px 1px 1px 1px);\n",
              "  clip: rect(1px, 1px, 1px, 1px);\n",
              "  height: 1px;\n",
              "  margin: -1px;\n",
              "  overflow: hidden;\n",
              "  padding: 0;\n",
              "  position: absolute;\n",
              "  width: 1px;\n",
              "}\n",
              "\n",
              "#sk-container-id-1 div.sk-dashed-wrapped {\n",
              "  border: 1px dashed var(--sklearn-color-line);\n",
              "  margin: 0 0.4em 0.5em 0.4em;\n",
              "  box-sizing: border-box;\n",
              "  padding-bottom: 0.4em;\n",
              "  background-color: var(--sklearn-color-background);\n",
              "}\n",
              "\n",
              "#sk-container-id-1 div.sk-container {\n",
              "  /* jupyter's `normalize.less` sets `[hidden] { display: none; }`\n",
              "     but bootstrap.min.css set `[hidden] { display: none !important; }`\n",
              "     so we also need the `!important` here to be able to override the\n",
              "     default hidden behavior on the sphinx rendered scikit-learn.org.\n",
              "     See: https://github.com/scikit-learn/scikit-learn/issues/21755 */\n",
              "  display: inline-block !important;\n",
              "  position: relative;\n",
              "}\n",
              "\n",
              "#sk-container-id-1 div.sk-text-repr-fallback {\n",
              "  display: none;\n",
              "}\n",
              "\n",
              "div.sk-parallel-item,\n",
              "div.sk-serial,\n",
              "div.sk-item {\n",
              "  /* draw centered vertical line to link estimators */\n",
              "  background-image: linear-gradient(var(--sklearn-color-text-on-default-background), var(--sklearn-color-text-on-default-background));\n",
              "  background-size: 2px 100%;\n",
              "  background-repeat: no-repeat;\n",
              "  background-position: center center;\n",
              "}\n",
              "\n",
              "/* Parallel-specific style estimator block */\n",
              "\n",
              "#sk-container-id-1 div.sk-parallel-item::after {\n",
              "  content: \"\";\n",
              "  width: 100%;\n",
              "  border-bottom: 2px solid var(--sklearn-color-text-on-default-background);\n",
              "  flex-grow: 1;\n",
              "}\n",
              "\n",
              "#sk-container-id-1 div.sk-parallel {\n",
              "  display: flex;\n",
              "  align-items: stretch;\n",
              "  justify-content: center;\n",
              "  background-color: var(--sklearn-color-background);\n",
              "  position: relative;\n",
              "}\n",
              "\n",
              "#sk-container-id-1 div.sk-parallel-item {\n",
              "  display: flex;\n",
              "  flex-direction: column;\n",
              "}\n",
              "\n",
              "#sk-container-id-1 div.sk-parallel-item:first-child::after {\n",
              "  align-self: flex-end;\n",
              "  width: 50%;\n",
              "}\n",
              "\n",
              "#sk-container-id-1 div.sk-parallel-item:last-child::after {\n",
              "  align-self: flex-start;\n",
              "  width: 50%;\n",
              "}\n",
              "\n",
              "#sk-container-id-1 div.sk-parallel-item:only-child::after {\n",
              "  width: 0;\n",
              "}\n",
              "\n",
              "/* Serial-specific style estimator block */\n",
              "\n",
              "#sk-container-id-1 div.sk-serial {\n",
              "  display: flex;\n",
              "  flex-direction: column;\n",
              "  align-items: center;\n",
              "  background-color: var(--sklearn-color-background);\n",
              "  padding-right: 1em;\n",
              "  padding-left: 1em;\n",
              "}\n",
              "\n",
              "\n",
              "/* Toggleable style: style used for estimator/Pipeline/ColumnTransformer box that is\n",
              "clickable and can be expanded/collapsed.\n",
              "- Pipeline and ColumnTransformer use this feature and define the default style\n",
              "- Estimators will overwrite some part of the style using the `sk-estimator` class\n",
              "*/\n",
              "\n",
              "/* Pipeline and ColumnTransformer style (default) */\n",
              "\n",
              "#sk-container-id-1 div.sk-toggleable {\n",
              "  /* Default theme specific background. It is overwritten whether we have a\n",
              "  specific estimator or a Pipeline/ColumnTransformer */\n",
              "  background-color: var(--sklearn-color-background);\n",
              "}\n",
              "\n",
              "/* Toggleable label */\n",
              "#sk-container-id-1 label.sk-toggleable__label {\n",
              "  cursor: pointer;\n",
              "  display: block;\n",
              "  width: 100%;\n",
              "  margin-bottom: 0;\n",
              "  padding: 0.5em;\n",
              "  box-sizing: border-box;\n",
              "  text-align: center;\n",
              "}\n",
              "\n",
              "#sk-container-id-1 label.sk-toggleable__label-arrow:before {\n",
              "  /* Arrow on the left of the label */\n",
              "  content: \"▸\";\n",
              "  float: left;\n",
              "  margin-right: 0.25em;\n",
              "  color: var(--sklearn-color-icon);\n",
              "}\n",
              "\n",
              "#sk-container-id-1 label.sk-toggleable__label-arrow:hover:before {\n",
              "  color: var(--sklearn-color-text);\n",
              "}\n",
              "\n",
              "/* Toggleable content - dropdown */\n",
              "\n",
              "#sk-container-id-1 div.sk-toggleable__content {\n",
              "  max-height: 0;\n",
              "  max-width: 0;\n",
              "  overflow: hidden;\n",
              "  text-align: left;\n",
              "  /* unfitted */\n",
              "  background-color: var(--sklearn-color-unfitted-level-0);\n",
              "}\n",
              "\n",
              "#sk-container-id-1 div.sk-toggleable__content.fitted {\n",
              "  /* fitted */\n",
              "  background-color: var(--sklearn-color-fitted-level-0);\n",
              "}\n",
              "\n",
              "#sk-container-id-1 div.sk-toggleable__content pre {\n",
              "  margin: 0.2em;\n",
              "  border-radius: 0.25em;\n",
              "  color: var(--sklearn-color-text);\n",
              "  /* unfitted */\n",
              "  background-color: var(--sklearn-color-unfitted-level-0);\n",
              "}\n",
              "\n",
              "#sk-container-id-1 div.sk-toggleable__content.fitted pre {\n",
              "  /* unfitted */\n",
              "  background-color: var(--sklearn-color-fitted-level-0);\n",
              "}\n",
              "\n",
              "#sk-container-id-1 input.sk-toggleable__control:checked~div.sk-toggleable__content {\n",
              "  /* Expand drop-down */\n",
              "  max-height: 200px;\n",
              "  max-width: 100%;\n",
              "  overflow: auto;\n",
              "}\n",
              "\n",
              "#sk-container-id-1 input.sk-toggleable__control:checked~label.sk-toggleable__label-arrow:before {\n",
              "  content: \"▾\";\n",
              "}\n",
              "\n",
              "/* Pipeline/ColumnTransformer-specific style */\n",
              "\n",
              "#sk-container-id-1 div.sk-label input.sk-toggleable__control:checked~label.sk-toggleable__label {\n",
              "  color: var(--sklearn-color-text);\n",
              "  background-color: var(--sklearn-color-unfitted-level-2);\n",
              "}\n",
              "\n",
              "#sk-container-id-1 div.sk-label.fitted input.sk-toggleable__control:checked~label.sk-toggleable__label {\n",
              "  background-color: var(--sklearn-color-fitted-level-2);\n",
              "}\n",
              "\n",
              "/* Estimator-specific style */\n",
              "\n",
              "/* Colorize estimator box */\n",
              "#sk-container-id-1 div.sk-estimator input.sk-toggleable__control:checked~label.sk-toggleable__label {\n",
              "  /* unfitted */\n",
              "  background-color: var(--sklearn-color-unfitted-level-2);\n",
              "}\n",
              "\n",
              "#sk-container-id-1 div.sk-estimator.fitted input.sk-toggleable__control:checked~label.sk-toggleable__label {\n",
              "  /* fitted */\n",
              "  background-color: var(--sklearn-color-fitted-level-2);\n",
              "}\n",
              "\n",
              "#sk-container-id-1 div.sk-label label.sk-toggleable__label,\n",
              "#sk-container-id-1 div.sk-label label {\n",
              "  /* The background is the default theme color */\n",
              "  color: var(--sklearn-color-text-on-default-background);\n",
              "}\n",
              "\n",
              "/* On hover, darken the color of the background */\n",
              "#sk-container-id-1 div.sk-label:hover label.sk-toggleable__label {\n",
              "  color: var(--sklearn-color-text);\n",
              "  background-color: var(--sklearn-color-unfitted-level-2);\n",
              "}\n",
              "\n",
              "/* Label box, darken color on hover, fitted */\n",
              "#sk-container-id-1 div.sk-label.fitted:hover label.sk-toggleable__label.fitted {\n",
              "  color: var(--sklearn-color-text);\n",
              "  background-color: var(--sklearn-color-fitted-level-2);\n",
              "}\n",
              "\n",
              "/* Estimator label */\n",
              "\n",
              "#sk-container-id-1 div.sk-label label {\n",
              "  font-family: monospace;\n",
              "  font-weight: bold;\n",
              "  display: inline-block;\n",
              "  line-height: 1.2em;\n",
              "}\n",
              "\n",
              "#sk-container-id-1 div.sk-label-container {\n",
              "  text-align: center;\n",
              "}\n",
              "\n",
              "/* Estimator-specific */\n",
              "#sk-container-id-1 div.sk-estimator {\n",
              "  font-family: monospace;\n",
              "  border: 1px dotted var(--sklearn-color-border-box);\n",
              "  border-radius: 0.25em;\n",
              "  box-sizing: border-box;\n",
              "  margin-bottom: 0.5em;\n",
              "  /* unfitted */\n",
              "  background-color: var(--sklearn-color-unfitted-level-0);\n",
              "}\n",
              "\n",
              "#sk-container-id-1 div.sk-estimator.fitted {\n",
              "  /* fitted */\n",
              "  background-color: var(--sklearn-color-fitted-level-0);\n",
              "}\n",
              "\n",
              "/* on hover */\n",
              "#sk-container-id-1 div.sk-estimator:hover {\n",
              "  /* unfitted */\n",
              "  background-color: var(--sklearn-color-unfitted-level-2);\n",
              "}\n",
              "\n",
              "#sk-container-id-1 div.sk-estimator.fitted:hover {\n",
              "  /* fitted */\n",
              "  background-color: var(--sklearn-color-fitted-level-2);\n",
              "}\n",
              "\n",
              "/* Specification for estimator info (e.g. \"i\" and \"?\") */\n",
              "\n",
              "/* Common style for \"i\" and \"?\" */\n",
              "\n",
              ".sk-estimator-doc-link,\n",
              "a:link.sk-estimator-doc-link,\n",
              "a:visited.sk-estimator-doc-link {\n",
              "  float: right;\n",
              "  font-size: smaller;\n",
              "  line-height: 1em;\n",
              "  font-family: monospace;\n",
              "  background-color: var(--sklearn-color-background);\n",
              "  border-radius: 1em;\n",
              "  height: 1em;\n",
              "  width: 1em;\n",
              "  text-decoration: none !important;\n",
              "  margin-left: 1ex;\n",
              "  /* unfitted */\n",
              "  border: var(--sklearn-color-unfitted-level-1) 1pt solid;\n",
              "  color: var(--sklearn-color-unfitted-level-1);\n",
              "}\n",
              "\n",
              ".sk-estimator-doc-link.fitted,\n",
              "a:link.sk-estimator-doc-link.fitted,\n",
              "a:visited.sk-estimator-doc-link.fitted {\n",
              "  /* fitted */\n",
              "  border: var(--sklearn-color-fitted-level-1) 1pt solid;\n",
              "  color: var(--sklearn-color-fitted-level-1);\n",
              "}\n",
              "\n",
              "/* On hover */\n",
              "div.sk-estimator:hover .sk-estimator-doc-link:hover,\n",
              ".sk-estimator-doc-link:hover,\n",
              "div.sk-label-container:hover .sk-estimator-doc-link:hover,\n",
              ".sk-estimator-doc-link:hover {\n",
              "  /* unfitted */\n",
              "  background-color: var(--sklearn-color-unfitted-level-3);\n",
              "  color: var(--sklearn-color-background);\n",
              "  text-decoration: none;\n",
              "}\n",
              "\n",
              "div.sk-estimator.fitted:hover .sk-estimator-doc-link.fitted:hover,\n",
              ".sk-estimator-doc-link.fitted:hover,\n",
              "div.sk-label-container:hover .sk-estimator-doc-link.fitted:hover,\n",
              ".sk-estimator-doc-link.fitted:hover {\n",
              "  /* fitted */\n",
              "  background-color: var(--sklearn-color-fitted-level-3);\n",
              "  color: var(--sklearn-color-background);\n",
              "  text-decoration: none;\n",
              "}\n",
              "\n",
              "/* Span, style for the box shown on hovering the info icon */\n",
              ".sk-estimator-doc-link span {\n",
              "  display: none;\n",
              "  z-index: 9999;\n",
              "  position: relative;\n",
              "  font-weight: normal;\n",
              "  right: .2ex;\n",
              "  padding: .5ex;\n",
              "  margin: .5ex;\n",
              "  width: min-content;\n",
              "  min-width: 20ex;\n",
              "  max-width: 50ex;\n",
              "  color: var(--sklearn-color-text);\n",
              "  box-shadow: 2pt 2pt 4pt #999;\n",
              "  /* unfitted */\n",
              "  background: var(--sklearn-color-unfitted-level-0);\n",
              "  border: .5pt solid var(--sklearn-color-unfitted-level-3);\n",
              "}\n",
              "\n",
              ".sk-estimator-doc-link.fitted span {\n",
              "  /* fitted */\n",
              "  background: var(--sklearn-color-fitted-level-0);\n",
              "  border: var(--sklearn-color-fitted-level-3);\n",
              "}\n",
              "\n",
              ".sk-estimator-doc-link:hover span {\n",
              "  display: block;\n",
              "}\n",
              "\n",
              "/* \"?\"-specific style due to the `<a>` HTML tag */\n",
              "\n",
              "#sk-container-id-1 a.estimator_doc_link {\n",
              "  float: right;\n",
              "  font-size: 1rem;\n",
              "  line-height: 1em;\n",
              "  font-family: monospace;\n",
              "  background-color: var(--sklearn-color-background);\n",
              "  border-radius: 1rem;\n",
              "  height: 1rem;\n",
              "  width: 1rem;\n",
              "  text-decoration: none;\n",
              "  /* unfitted */\n",
              "  color: var(--sklearn-color-unfitted-level-1);\n",
              "  border: var(--sklearn-color-unfitted-level-1) 1pt solid;\n",
              "}\n",
              "\n",
              "#sk-container-id-1 a.estimator_doc_link.fitted {\n",
              "  /* fitted */\n",
              "  border: var(--sklearn-color-fitted-level-1) 1pt solid;\n",
              "  color: var(--sklearn-color-fitted-level-1);\n",
              "}\n",
              "\n",
              "/* On hover */\n",
              "#sk-container-id-1 a.estimator_doc_link:hover {\n",
              "  /* unfitted */\n",
              "  background-color: var(--sklearn-color-unfitted-level-3);\n",
              "  color: var(--sklearn-color-background);\n",
              "  text-decoration: none;\n",
              "}\n",
              "\n",
              "#sk-container-id-1 a.estimator_doc_link.fitted:hover {\n",
              "  /* fitted */\n",
              "  background-color: var(--sklearn-color-fitted-level-3);\n",
              "}\n",
              "</style><div id=\"sk-container-id-1\" class=\"sk-top-container\"><div class=\"sk-text-repr-fallback\"><pre>LatentDirichletAllocation(n_components=8, random_state=0)</pre><b>In a Jupyter environment, please rerun this cell to show the HTML representation or trust the notebook. <br />On GitHub, the HTML representation is unable to render, please try loading this page with nbviewer.org.</b></div><div class=\"sk-container\" hidden><div class=\"sk-item\"><div class=\"sk-estimator fitted sk-toggleable\"><input class=\"sk-toggleable__control sk-hidden--visually\" id=\"sk-estimator-id-1\" type=\"checkbox\" checked><label for=\"sk-estimator-id-1\" class=\"sk-toggleable__label fitted sk-toggleable__label-arrow fitted\">&nbsp;&nbsp;LatentDirichletAllocation<a class=\"sk-estimator-doc-link fitted\" rel=\"noreferrer\" target=\"_blank\" href=\"https://scikit-learn.org/1.5/modules/generated/sklearn.decomposition.LatentDirichletAllocation.html\">?<span>Documentation for LatentDirichletAllocation</span></a><span class=\"sk-estimator-doc-link fitted\">i<span>Fitted</span></span></label><div class=\"sk-toggleable__content fitted\"><pre>LatentDirichletAllocation(n_components=8, random_state=0)</pre></div> </div></div></div></div>"
            ]
          },
          "metadata": {},
          "execution_count": 3
        }
      ]
    },
    {
      "cell_type": "markdown",
      "source": [
        "개별 토픽별로 각 word 피처가 얼마나 많이 그 토피겡 할당됐는지에 대한 수치를 가지고 있다</br>\n",
        "높은 값일수록 해당 word 피처는 그 토픽의 중심 word가 된다"
      ],
      "metadata": {
        "id": "7PAamNslGsu-"
      }
    },
    {
      "cell_type": "code",
      "source": [
        "print(lda.components_.shape)\n",
        "lda.components_"
      ],
      "metadata": {
        "colab": {
          "base_uri": "https://localhost:8080/"
        },
        "id": "p-gP2BTHGiuO",
        "outputId": "35b787da-3cb1-439a-e36e-2524ae7d43d5"
      },
      "execution_count": null,
      "outputs": [
        {
          "output_type": "stream",
          "name": "stdout",
          "text": [
            "(8, 1000)\n"
          ]
        },
        {
          "output_type": "execute_result",
          "data": {
            "text/plain": [
              "array([[3.60992018e+01, 1.35626798e+02, 2.15751867e+01, ...,\n",
              "        3.02911688e+01, 8.66830093e+01, 6.79285199e+01],\n",
              "       [1.25199920e-01, 1.44401815e+01, 1.25045596e-01, ...,\n",
              "        1.81506995e+02, 1.25097844e-01, 9.39593286e+01],\n",
              "       [3.34762663e+02, 1.25176265e-01, 1.46743299e+02, ...,\n",
              "        1.25105772e-01, 3.63689741e+01, 1.25025218e-01],\n",
              "       ...,\n",
              "       [3.60204965e+01, 2.08640688e+01, 4.29606813e+00, ...,\n",
              "        1.45056650e+01, 8.33854413e+00, 1.55690009e+01],\n",
              "       [1.25128711e-01, 1.25247756e-01, 1.25005143e-01, ...,\n",
              "        9.17278769e+01, 1.25177668e-01, 3.74575887e+01],\n",
              "       [5.49258690e+01, 4.47009532e+00, 9.88524814e+00, ...,\n",
              "        4.87048440e+01, 1.25034678e-01, 1.25074632e-01]])"
            ]
          },
          "metadata": {},
          "execution_count": 5
        }
      ]
    },
    {
      "cell_type": "markdown",
      "source": [
        "각 토픽 별로 연관도가 높은 순으로 Word를 나열한다"
      ],
      "metadata": {
        "id": "wcY_5pL6G972"
      }
    },
    {
      "cell_type": "code",
      "source": [
        "def display_topics(model, feature_names, no_top_words):\n",
        "  for topic_index, topic in enumerate(model.components_):\n",
        "    print('Topic #', topic_index)\n",
        "\n",
        "    # components, array에서 가장 값이 큰 순으로 정렬했을 때, 그 값의 array 인덱스를 반환.\n",
        "    topic_word_indexes = topic.argsort()[::-1 ]\n",
        "    top_indexes=topic_word_indexes[:no_top_words]\n",
        "\n",
        "    # top_indexes대상인 인덱스별로 feature_names에 해당하는 word feature 추출 후 join으로 concat\n",
        "    feature_concat = ' '.join([feature_names[i] for i in top_indexes])\n",
        "    print(feature_concat)\n",
        "\n",
        "#CountVectorizer 객체 내의 전체 word의 명칭을 get_features_names()를 통해 추출\n",
        "feature_names = count_vect.get_feature_names_out()\n",
        "\n",
        "#토픽별 가장 연관도가 높은 word를 15개만 추출\n",
        "display_topics(lda, feature_names, 15)"
      ],
      "metadata": {
        "colab": {
          "base_uri": "https://localhost:8080/"
        },
        "id": "pcffFFwWHB0a",
        "outputId": "5483463d-80c5-4cce-d8cb-faa6adf5af94"
      },
      "execution_count": null,
      "outputs": [
        {
          "output_type": "stream",
          "name": "stdout",
          "text": [
            "Topic # 0\n",
            "year 10 game medical health team 12 20 disease cancer 1993 games years patients good\n",
            "Topic # 1\n",
            "don just like know people said think time ve didn right going say ll way\n",
            "Topic # 2\n",
            "image file jpeg program gif images output format files color entry 00 use bit 03\n",
            "Topic # 3\n",
            "like know don think use does just good time book read information people used post\n",
            "Topic # 4\n",
            "armenian israel armenians jews turkish people israeli jewish government war dos dos turkey arab armenia 000\n",
            "Topic # 5\n",
            "edu com available graphics ftp data pub motif mail widget software mit information version sun\n",
            "Topic # 6\n",
            "god people jesus church believe christ does christian say think christians bible faith sin life\n",
            "Topic # 7\n",
            "use dos thanks windows using window does display help like problem server need know run\n"
          ]
        }
      ]
    },
    {
      "cell_type": "markdown",
      "source": [
        "##문서 유사도\n",
        "**문서 유사도 측정 방법 - 코사인 유사도**</br>\n",
        " : 벡터와 벡터 간의 유사도를 비교할 때 벡터의 크기보다는 벡터의 상호 방향성이 얼마나 유사한지에 기반</br>\n",
        " : 두 벡터 사이의 사잇각을 구해서 얼마나 유사한지 수치로 적용한 것"
      ],
      "metadata": {
        "id": "RP_vj3QkITQw"
      }
    },
    {
      "cell_type": "markdown",
      "source": [
        "**두 벡터 사잇각**\n",
        "![스크린샷 2024-10-02 211004.png](data:image/png;base64,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)"
      ],
      "metadata": {
        "id": "B6FNZDEgIWHy"
      }
    },
    {
      "cell_type": "markdown",
      "source": [
        "코사인 유사도를 문서 유사도에 가장 많이 이용하는 이유 :\n",
        "1. 문서를 피처 벡터화 시, 매우 많은 희소 행렬이 되기 쉽다.  -> 정확도 감소\n",
        "2. 문장이 긴 경우 단어의 빈도수도 더 많을 것이다. -> 공정한 비교 불가\n",
        "\n"
      ],
      "metadata": {
        "id": "XSbZYK0aI00t"
      }
    },
    {
      "cell_type": "code",
      "source": [
        "import numpy as np\n",
        "\n",
        "def cos_similarity(v1, v2):\n",
        "  dot_product = np.dot(v1,v2)\n",
        "  l2_norm = (np.sqrt(sum(np.square(v1))) * np.sqrt(sum(np.square(v2))))\n",
        "  similarity = dot_product / l2_norm\n",
        "\n",
        "  return similarity"
      ],
      "metadata": {
        "id": "QtIqrXCHJV0d"
      },
      "execution_count": null,
      "outputs": []
    },
    {
      "cell_type": "markdown",
      "source": [
        "TF-IDF 벡터화된 행렬로 변환해 문장의 유사도 비교"
      ],
      "metadata": {
        "id": "125iEMAIKK3z"
      }
    },
    {
      "cell_type": "code",
      "source": [
        "from sklearn.feature_extraction.text import TfidfVectorizer\n",
        "\n",
        "doc_list = ['if you take the blue pill, the story ends',\n",
        "            'if you take the red pill, you stay in Wonderland',\n",
        "            'if you take the red pill, I show you how deep the rabbit hole goes']\n",
        "\n",
        "tfidf_vect_simple = TfidfVectorizer()\n",
        "feature_vect_simple = tfidf_vect_simple.fit_transform(doc_list)\n",
        "print(feature_vect_simple.shape)"
      ],
      "metadata": {
        "colab": {
          "base_uri": "https://localhost:8080/"
        },
        "id": "JToOpM8EJqmJ",
        "outputId": "952b29bf-019e-449c-ed23-232d1bb02adb"
      },
      "execution_count": null,
      "outputs": [
        {
          "output_type": "stream",
          "name": "stdout",
          "text": [
            "(3, 18)\n"
          ]
        }
      ]
    },
    {
      "cell_type": "markdown",
      "source": [
        "cos_similarity 함수 이용해 두 개의 문서의 유사도 측정"
      ],
      "metadata": {
        "id": "JHqX0sWhKQFM"
      }
    },
    {
      "cell_type": "code",
      "source": [
        "# TFidfVectorizer로 transform()한 결과는 희소 행렬이므로 밀집 행렬로 변환\n",
        "feature_vect_dense = feature_vect_simple.todense()\n",
        "\n",
        "# 첫 번째 문장과 두 번째 문장의 피처 벡터 추출\n",
        "vect1 = np.array(feature_vect_dense[0]).reshape(-1,)\n",
        "vect2 = np.array(feature_vect_dense[1]).reshape(-1,)\n",
        "\n",
        "# 첫 번째 문장과 두 번째 문장의 피처 벡터로 두 개 문장의 코사인 유사도 추출\n",
        "similarity_simple = cos_similarity(vect1, vect2 )\n",
        "print('문장 1, 문장 2 Cosine 유사도: {0:.3f}'.format(similarity_simple))"
      ],
      "metadata": {
        "colab": {
          "base_uri": "https://localhost:8080/"
        },
        "id": "ufBmU8x4KWy7",
        "outputId": "47d2299e-1438-4d56-a39b-344c60e5e9bb"
      },
      "execution_count": null,
      "outputs": [
        {
          "output_type": "stream",
          "name": "stdout",
          "text": [
            "문장 1, 문장 2 Cosine 유사도: 0.402\n"
          ]
        }
      ]
    },
    {
      "cell_type": "markdown",
      "source": [
        "첫번째-세번째 / 두번째=세번째 문장의 유사도 측정"
      ],
      "metadata": {
        "id": "zT2OS8QqKor8"
      }
    },
    {
      "cell_type": "code",
      "source": [
        "vectl = np.array(feature_vect_dense[0]).reshape(-1, )\n",
        "vect3 = np.array(feature_vect_dense[2]).reshape(-1, )\n",
        "similarity_simple = cos_similarity(vect1, vect3 )\n",
        "print('문장 1, 문장 3 Cosine 유사도: {0:.3f}'.format(similarity_simple))\n",
        "\n",
        "vect2 = np.array(feature_vect_dense[ 1 ]).reshape(-1, )\n",
        "vect3 = np.array(feature_vect_dense[2]).reshape(-1, )\n",
        "similarity_simple = cos_similarity(vect2, vect3 )\n",
        "print('문장 2, 문장 3 Cosine 유사도: {0:.3f}'.format(similarity_simple))"
      ],
      "metadata": {
        "colab": {
          "base_uri": "https://localhost:8080/"
        },
        "id": "AbagckZ8K6tq",
        "outputId": "9b1d428a-ee28-4c8c-951c-4425f469960b"
      },
      "execution_count": null,
      "outputs": [
        {
          "output_type": "stream",
          "name": "stdout",
          "text": [
            "문장 1, 문장 3 Cosine 유사도: 0.404\n",
            "문장 2, 문장 3 Cosine 유사도: 0.456\n"
          ]
        }
      ]
    },
    {
      "cell_type": "code",
      "source": [
        "from sklearn.metrics.pairwise import cosine_similarity\n",
        "\n",
        "similarity_simple_pair = cosine_similarity(feature_vect_simple[0], feature_vect_simple)\n",
        "print(similarity_simple_pair)"
      ],
      "metadata": {
        "colab": {
          "base_uri": "https://localhost:8080/"
        },
        "id": "ceLov9sSLJ8b",
        "outputId": "da6a9f9e-2019-4d9d-8e8e-9da091d44160"
      },
      "execution_count": null,
      "outputs": [
        {
          "output_type": "stream",
          "name": "stdout",
          "text": [
            "[[1.         0.40207758 0.40425045]]\n"
          ]
        }
      ]
    },
    {
      "cell_type": "code",
      "source": [
        "from sklearn.metrics.pairwise import cosine_similarity\n",
        "\n",
        "similarity_simple_pair = cosine_similarity(feature_vect_simple[0], feature_vect_simple[1:])\n",
        "print(similarity_simple_pair)"
      ],
      "metadata": {
        "colab": {
          "base_uri": "https://localhost:8080/"
        },
        "id": "vay-tuKqLcIr",
        "outputId": "591d448c-a970-47f6-91b4-cad091ac41d0"
      },
      "execution_count": null,
      "outputs": [
        {
          "output_type": "stream",
          "name": "stdout",
          "text": [
            "[[0.40207758 0.40425045]]\n"
          ]
        }
      ]
    },
    {
      "cell_type": "code",
      "source": [
        "similarity_simple_pair = cosine_similarity(feature_vect_simple, feature_vect_simple)\n",
        "print(similarity_simple_pair)\n",
        "print('shape:', similarity_simple_pair.shape)"
      ],
      "metadata": {
        "colab": {
          "base_uri": "https://localhost:8080/"
        },
        "id": "KqRG_gRhLqD5",
        "outputId": "f8d1a3fd-973d-4822-dd58-64f98f3fbb21"
      },
      "execution_count": null,
      "outputs": [
        {
          "output_type": "stream",
          "name": "stdout",
          "text": [
            "[[1.         0.40207758 0.40425045]\n",
            " [0.40207758 1.         0.45647296]\n",
            " [0.40425045 0.45647296 1.        ]]\n",
            "shape: (3, 3)\n"
          ]
        }
      ]
    },
    {
      "cell_type": "markdown",
      "source": [
        "**Opinion Review 데이터 세트를 이용한 문서 유사도 측정**"
      ],
      "metadata": {
        "id": "K-qDaXhaLwUH"
      }
    },
    {
      "cell_type": "code",
      "source": [
        "import pandas as pd\n",
        "import glob, os\n",
        "from sklearn.feature_extraction.text import TfidfVectorizer\n",
        "from sklearn.cluster import KMeans\n",
        "\n",
        "path = r'/content/drive/MyDrive/ESAA/topics'\n",
        "all_files = glob.glob(os.path.join(path, \"*.data\"))\n",
        "filename_list = []\n",
        "opinion_text = []\n",
        "\n",
        "for file_ in all_files:\n",
        "    df = pd.read_table(file_, index_col=None, header=0, encoding='latin1')\n",
        "    filename_ = file_.split('\\\\')[-1]\n",
        "    filename = filename_.split(',')[0]\n",
        "    filename_list.append(filename)\n",
        "    opinion_text.append(df.to_string())\n",
        "\n",
        "document_df = pd.DataFrame({'filename':filename_list, 'opinion.text':opinion_text})\n",
        "\n",
        "tfidf_vect = TfidfVectorizer(tokenizer=LemNormalize, stop_words='english',\n",
        "                             ngram_range=(1 , 2), min_df=0.05, max_df=0.85)\n",
        "\n",
        "feature_vect = tfidf_vect.fit_transform(document_df['opinion.text'])\n",
        "\n",
        "km_cluster = KMeans(n_clusters=3, max_iter=10000, random_state=0)\n",
        "km_cluster.fit(feature_vect)\n",
        "cluster_label = km_cluster.labels_\n",
        "cluster_centers = km_cluster.cluster_centers_\n",
        "document_df['cluster_label'] = cluster_label"
      ],
      "metadata": {
        "id": "JYqauZrlvGtu"
      },
      "execution_count": null,
      "outputs": []
    },
    {
      "cell_type": "code",
      "source": [
        "from sklearn.metrics.pairwise import cosine_similarity\n",
        "\n",
        "#clusterjab인=2인 데이터는 호텔로 군집화된 데이터임. DataFrame에서 해당 인덱스를 추출\n",
        "hotel_indexes = document_df[document_df['cluster_label']==2] .index\n",
        "print('호텔로 클러스터링 된 문서들의 DataFrame Index： ', hotel_indexes)\n",
        "\n",
        "#호텔로 군집화된 데이터 중 첫 번째 문서를 추출해 파일명 표시.\n",
        "comparison_docname = document_df.iloc[hotel_indexes[0]]['filename']\n",
        "print('##### 비교 기준 문서명', comparison_docname, ' 와 타 문서 유사도######')\n",
        "\n",
        "''' document_df에서 추출한 Index 객체를 feature_vect로 입력해 호텔 군집화된 feature_vect 추출\n",
        "이를 이용해 호텔로 군집화된 문서 중 첫 번째 문서와 다른 문서 간의 코사인 유사도 측정'''\n",
        "\n",
        "similarity_pair = cosine_similarity(feature_vect[hotel_indexes[0]], feature_vect[hotel_indexes])\n",
        "print(similarity_pair)"
      ],
      "metadata": {
        "colab": {
          "base_uri": "https://localhost:8080/"
        },
        "id": "Tz4SmqrywV5_",
        "outputId": "fcac0537-5312-4097-f87d-d820b6cbd87a"
      },
      "execution_count": null,
      "outputs": [
        {
          "output_type": "stream",
          "name": "stdout",
          "text": [
            "호텔로 클러스터링 된 문서들의 DataFrame Index：  Index([18, 20, 24, 25, 30, 31, 32, 38, 39, 42, 43, 45, 47, 50], dtype='int64')\n",
            "##### 비교 기준 문서명 /content/drive/MyDrive/24-2 ESAA/topics/staff_swissotel_chicago.txt.data  와 타 문서 유사도######\n",
            "[[1.         0.12946139 0.12559413 0.24093012 0.18678668 0.22696926\n",
            "  0.27003062 0.15717615 0.9379169  0.06163352 0.06489259 0.24949927\n",
            "  0.06183228 0.25737407]]\n"
          ]
        }
      ]
    },
    {
      "cell_type": "code",
      "source": [
        "import seaborn as sns\n",
        "import numpy as np\n",
        "import matplotlib.pyplot as pit\n",
        "%matplotlib inline\n",
        "\n",
        "#첫번째 문서와 타 문서간 유사도가 큰 순으로 정렬한 인덱스 추출하되 자기 자신은 제외.\n",
        "sorted_index = similarity_pair.argsort()[:,::-1]\n",
        "sorted_index = sorted_index[:, 1 :]\n",
        "\n",
        "# 유사도가 큰 순으로 hotel_indexes를 추출하여 재정렬.\n",
        "hotel_sorted_indexes = hotel_indexes[sorted_index.reshape(-1)]\n",
        "\n",
        "# 유사도가 큰 순으로 유사도 값을 재정렬하되 자기 자신은 제외\n",
        "hotel_1_sim_value = np.sort(similarity_pair.reshape(-1))[::-1 ]\n",
        "hotel_1_sim_value = hotel_1_sim_value[1:]\n",
        "\n",
        "# 유사도가 큰 순으로 정렬된 인덱스와 유사도 값을 이용해 파일명과 유사도값을 막대 그래프로 시각화\n",
        "hotel_1_sim_df = pd.DataFrame()\n",
        "hotel_1_sim_df['filename'] = document_df.iloc[hotel_sorted_indexes]['filename']\n",
        "hotel_1_sim_df['similarity'] = hotel_1_sim_value\n",
        "print('가장 유사도가 큰 파일명 및 유사도:\\n', hotel_1_sim_df.iloc[0, :])\n",
        "\n",
        "sns.barplot(x='similarity', y='filename', data=hotel_1_sim_df)\n",
        "pit.title(comparison_docname)"
      ],
      "metadata": {
        "colab": {
          "base_uri": "https://localhost:8080/",
          "height": 363
        },
        "id": "AFT5RJ2QxKMY",
        "outputId": "b5f2f0d9-d8d5-435f-9bb6-4a37c9d5c499"
      },
      "execution_count": null,
      "outputs": [
        {
          "output_type": "stream",
          "name": "stdout",
          "text": [
            "가장 유사도가 큰 파일명 및 유사도:\n",
            " filename      /content/drive/MyDrive/24-2 ESAA/topics/staff_bestwestern_hotel_sfo.txt.data\n",
            "similarity                                                                        0.937917\n",
            "Name: 39, dtype: object\n"
          ]
        },
        {
          "output_type": "execute_result",
          "data": {
            "text/plain": [
              "Text(0.5, 1.0, '/content/drive/MyDrive/24-2 ESAA/topics/staff_swissotel_chicago.txt.data')"
            ]
          },
          "metadata": {},
          "execution_count": 49
        },
        {
          "output_type": "display_data",
          "data": {
            "text/plain": [
              "<Figure size 640x480 with 1 Axes>"
            ],
            "image/png": "[encoded data removed]"
          },
          "metadata": {}
        }
      ]
    },
    {
      "cell_type": "markdown",
      "source": [
        "## **09. 한글 텍스트 처리 - 네이버 영화 평점 감성 분석**"
      ],
      "metadata": {
        "id": "yTp9zfISx059"
      }
    },
    {
      "cell_type": "markdown",
      "source": [
        "**한글 NLP 처리의 어려움**\n",
        "- 띄어쓰기\n",
        "- 다양한 조사, 경우의 수가 많아 어근 추출 등의 전처리 시 제거가 까다로움\n",
        "- 이런 면에서 라틴어 계열보다 NLP가 까다롭다\n",
        "\n",
        "**KoNLPy 소개**\n",
        "- KoNLPy: 한글 형태소 패키지(형태소 : 단어로서 의미를 가지는 최소 단위)\n"
      ],
      "metadata": {
        "id": "_ELH0jyBx4_x"
      }
    },
    {
      "cell_type": "code",
      "source": [
        "!pip install konlpy"
      ],
      "metadata": {
        "colab": {
          "base_uri": "https://localhost:8080/"
        },
        "id": "KrgE-z7tyyN6",
        "outputId": "be552a26-ed5c-4bc6-b3f8-b0b3d9dd3863"
      },
      "execution_count": null,
      "outputs": [
        {
          "output_type": "stream",
          "name": "stdout",
          "text": [
            "Collecting konlpy\n",
            "  Downloading konlpy-0.6.0-py2.py3-none-any.whl.metadata (1.9 kB)\n",
            "Collecting JPype1>=0.7.0 (from konlpy)\n",
            "  Downloading JPype1-1.5.0-cp310-cp310-manylinux_2_17_x86_64.manylinux2014_x86_64.whl.metadata (4.9 kB)\n",
            "Requirement already satisfied: lxml>=4.1.0 in /usr/local/lib/python3.10/dist-packages (from konlpy) (4.9.4)\n",
            "Requirement already satisfied: numpy>=1.6 in /usr/local/lib/python3.10/dist-packages (from konlpy) (1.26.4)\n",
            "Requirement already satisfied: packaging in /usr/local/lib/python3.10/dist-packages (from JPype1>=0.7.0->konlpy) (24.1)\n",
            "Downloading konlpy-0.6.0-py2.py3-none-any.whl (19.4 MB)\n",
            "\u001b[2K   \u001b[90m━━━━━━━━━━━━━━━━━━━━━━━━━━━━━━━━━━━━━━━━\u001b[0m \u001b[32m19.4/19.4 MB\u001b[0m \u001b[31m42.9 MB/s\u001b[0m eta \u001b[36m0:00:00\u001b[0m\n",
            "\u001b[?25hDownloading JPype1-1.5.0-cp310-cp310-manylinux_2_17_x86_64.manylinux2014_x86_64.whl (488 kB)\n",
            "\u001b[2K   \u001b[90m━━━━━━━━━━━━━━━━━━━━━━━━━━━━━━━━━━━━━━━━\u001b[0m \u001b[32m488.6/488.6 kB\u001b[0m \u001b[31m27.7 MB/s\u001b[0m eta \u001b[36m0:00:00\u001b[0m\n",
            "\u001b[?25hInstalling collected packages: JPype1, konlpy\n",
            "Successfully installed JPype1-1.5.0 konlpy-0.6.0\n"
          ]
        }
      ]
    },
    {
      "cell_type": "code",
      "source": [
        "#구글 드라이브\n",
        "from google.colab import drive\n",
        "drive.mount('/content/drive')"
      ],
      "metadata": {
        "colab": {
          "base_uri": "https://localhost:8080/"
        },
        "id": "5P7sjDmXkT08",
        "outputId": "a7e7cf02-1a18-4ada-d92d-da6272aa4eb3"
      },
      "execution_count": null,
      "outputs": [
        {
          "output_type": "stream",
          "name": "stdout",
          "text": [
            "Mounted at /content/drive\n"
          ]
        }
      ]
    },
    {
      "cell_type": "code",
      "source": [
        "import pandas as pd\n",
        "train_df = pd.read_csv('/content/drive/MyDrive/ESAA/ratings_train.txt', sep='\\t', encoding='utf-8') #코드 오류 수정\n",
        "train_df.head(3)"
      ],
      "metadata": {
        "colab": {
          "base_uri": "https://localhost:8080/",
          "height": 143
        },
        "id": "NZy9BdYHzKyn",
        "outputId": "8dab8114-1527-4d07-ef2b-c8c7a24b0cf6"
      },
      "execution_count": null,
      "outputs": [
        {
          "output_type": "execute_result",
          "data": {
            "text/plain": [
              "         id                           document  label\n",
              "0   9976970                아 더빙.. 진짜 짜증나네요 목소리      0\n",
              "1   3819312  흠...포스터보고 초딩영화줄....오버연기조차 가볍지 않구나      1\n",
              "2  10265843                  너무재밓었다그래서보는것을추천한다      0"
            ],
            "text/html": [
              "\n",
              "  <div id=\"df-555322bd-c721-4cde-a51b-ad81f1d1bf81\" class=\"colab-df-container\">\n",
              "    <div>\n",
              "<style scoped>\n",
              "    .dataframe tbody tr th:only-of-type {\n",
              "        vertical-align: middle;\n",
              "    }\n",
              "\n",
              "    .dataframe tbody tr th {\n",
              "        vertical-align: top;\n",
              "    }\n",
              "\n",
              "    .dataframe thead th {\n",
              "        text-align: right;\n",
              "    }\n",
              "</style>\n",
              "<table border=\"1\" class=\"dataframe\">\n",
              "  <thead>\n",
              "    <tr style=\"text-align: right;\">\n",
              "      <th></th>\n",
              "      <th>id</th>\n",
              "      <th>document</th>\n",
              "      <th>label</th>\n",
              "    </tr>\n",
              "  </thead>\n",
              "  <tbody>\n",
              "    <tr>\n",
              "      <th>0</th>\n",
              "      <td>9976970</td>\n",
              "      <td>아 더빙.. 진짜 짜증나네요 목소리</td>\n",
              "      <td>0</td>\n",
              "    </tr>\n",
              "    <tr>\n",
              "      <th>1</th>\n",
              "      <td>3819312</td>\n",
              "      <td>흠...포스터보고 초딩영화줄....오버연기조차 가볍지 않구나</td>\n",
              "      <td>1</td>\n",
              "    </tr>\n",
              "    <tr>\n",
              "      <th>2</th>\n",
              "      <td>10265843</td>\n",
              "      <td>너무재밓었다그래서보는것을추천한다</td>\n",
              "      <td>0</td>\n",
              "    </tr>\n",
              "  </tbody>\n",
              "</table>\n",
              "</div>\n",
              "    <div class=\"colab-df-buttons\">\n",
              "\n",
              "  <div class=\"colab-df-container\">\n",
              "    <button class=\"colab-df-convert\" onclick=\"convertToInteractive('df-555322bd-c721-4cde-a51b-ad81f1d1bf81')\"\n",
              "            title=\"Convert this dataframe to an interactive table.\"\n",
              "            style=\"display:none;\">\n",
              "\n",
              "  <svg xmlns=\"http://www.w3.org/2000/svg\" height=\"24px\" viewBox=\"0 -960 960 960\">\n",
              "    <path d=\"M120-120v-720h720v720H120Zm60-500h600v-160H180v160Zm220 220h160v-160H400v160Zm0 220h160v-160H400v160ZM180-400h160v-160H180v160Zm440 0h160v-160H620v160ZM180-180h160v-160H180v160Zm440 0h160v-160H620v160Z\"/>\n",
              "  </svg>\n",
              "    </button>\n",
              "\n",
              "  <style>\n",
              "    .colab-df-container {\n",
              "      display:flex;\n",
              "      gap: 12px;\n",
              "    }\n",
              "\n",
              "    .colab-df-convert {\n",
              "      background-color: #E8F0FE;\n",
              "      border: none;\n",
              "      border-radius: 50%;\n",
              "      cursor: pointer;\n",
              "      display: none;\n",
              "      fill: #1967D2;\n",
              "      height: 32px;\n",
              "      padding: 0 0 0 0;\n",
              "      width: 32px;\n",
              "    }\n",
              "\n",
              "    .colab-df-convert:hover {\n",
              "      background-color: #E2EBFA;\n",
              "      box-shadow: 0px 1px 2px rgba(60, 64, 67, 0.3), 0px 1px 3px 1px rgba(60, 64, 67, 0.15);\n",
              "      fill: #174EA6;\n",
              "    }\n",
              "\n",
              "    .colab-df-buttons div {\n",
              "      margin-bottom: 4px;\n",
              "    }\n",
              "\n",
              "    [theme=dark] .colab-df-convert {\n",
              "      background-color: #3B4455;\n",
              "      fill: #D2E3FC;\n",
              "    }\n",
              "\n",
              "    [theme=dark] .colab-df-convert:hover {\n",
              "      background-color: #434B5C;\n",
              "      box-shadow: 0px 1px 3px 1px rgba(0, 0, 0, 0.15);\n",
              "      filter: drop-shadow(0px 1px 2px rgba(0, 0, 0, 0.3));\n",
              "      fill: #FFFFFF;\n",
              "    }\n",
              "  </style>\n",
              "\n",
              "    <script>\n",
              "      const buttonEl =\n",
              "        document.querySelector('#df-555322bd-c721-4cde-a51b-ad81f1d1bf81 button.colab-df-convert');\n",
              "      buttonEl.style.display =\n",
              "        google.colab.kernel.accessAllowed ? 'block' : 'none';\n",
              "\n",
              "      async function convertToInteractive(key) {\n",
              "        const element = document.querySelector('#df-555322bd-c721-4cde-a51b-ad81f1d1bf81');\n",
              "        const dataTable =\n",
              "          await google.colab.kernel.invokeFunction('convertToInteractive',\n",
              "                                                    [key], {});\n",
              "        if (!dataTable) return;\n",
              "\n",
              "        const docLinkHtml = 'Like what you see? Visit the ' +\n",
              "          '<a target=\"_blank\" href=https://colab.research.google.com/notebooks/data_table.ipynb>data table notebook</a>'\n",
              "          + ' to learn more about interactive tables.';\n",
              "        element.innerHTML = '';\n",
              "        dataTable['output_type'] = 'display_data';\n",
              "        await google.colab.output.renderOutput(dataTable, element);\n",
              "        const docLink = document.createElement('div');\n",
              "        docLink.innerHTML = docLinkHtml;\n",
              "        element.appendChild(docLink);\n",
              "      }\n",
              "    </script>\n",
              "  </div>\n",
              "\n",
              "\n",
              "<div id=\"df-e204049a-9d87-4601-bef8-5cd6181d6621\">\n",
              "  <button class=\"colab-df-quickchart\" onclick=\"quickchart('df-e204049a-9d87-4601-bef8-5cd6181d6621')\"\n",
              "            title=\"Suggest charts\"\n",
              "            style=\"display:none;\">\n",
              "\n",
              "<svg xmlns=\"http://www.w3.org/2000/svg\" height=\"24px\"viewBox=\"0 0 24 24\"\n",
              "     width=\"24px\">\n",
              "    <g>\n",
              "        <path d=\"M19 3H5c-1.1 0-2 .9-2 2v14c0 1.1.9 2 2 2h14c1.1 0 2-.9 2-2V5c0-1.1-.9-2-2-2zM9 17H7v-7h2v7zm4 0h-2V7h2v10zm4 0h-2v-4h2v4z\"/>\n",
              "    </g>\n",
              "</svg>\n",
              "  </button>\n",
              "\n",
              "<style>\n",
              "  .colab-df-quickchart {\n",
              "      --bg-color: #E8F0FE;\n",
              "      --fill-color: #1967D2;\n",
              "      --hover-bg-color: #E2EBFA;\n",
              "      --hover-fill-color: #174EA6;\n",
              "      --disabled-fill-color: #AAA;\n",
              "      --disabled-bg-color: #DDD;\n",
              "  }\n",
              "\n",
              "  [theme=dark] .colab-df-quickchart {\n",
              "      --bg-color: #3B4455;\n",
              "      --fill-color: #D2E3FC;\n",
              "      --hover-bg-color: #434B5C;\n",
              "      --hover-fill-color: #FFFFFF;\n",
              "      --disabled-bg-color: #3B4455;\n",
              "      --disabled-fill-color: #666;\n",
              "  }\n",
              "\n",
              "  .colab-df-quickchart {\n",
              "    background-color: var(--bg-color);\n",
              "    border: none;\n",
              "    border-radius: 50%;\n",
              "    cursor: pointer;\n",
              "    display: none;\n",
              "    fill: var(--fill-color);\n",
              "    height: 32px;\n",
              "    padding: 0;\n",
              "    width: 32px;\n",
              "  }\n",
              "\n",
              "  .colab-df-quickchart:hover {\n",
              "    background-color: var(--hover-bg-color);\n",
              "    box-shadow: 0 1px 2px rgba(60, 64, 67, 0.3), 0 1px 3px 1px rgba(60, 64, 67, 0.15);\n",
              "    fill: var(--button-hover-fill-color);\n",
              "  }\n",
              "\n",
              "  .colab-df-quickchart-complete:disabled,\n",
              "  .colab-df-quickchart-complete:disabled:hover {\n",
              "    background-color: var(--disabled-bg-color);\n",
              "    fill: var(--disabled-fill-color);\n",
              "    box-shadow: none;\n",
              "  }\n",
              "\n",
              "  .colab-df-spinner {\n",
              "    border: 2px solid var(--fill-color);\n",
              "    border-color: transparent;\n",
              "    border-bottom-color: var(--fill-color);\n",
              "    animation:\n",
              "      spin 1s steps(1) infinite;\n",
              "  }\n",
              "\n",
              "  @keyframes spin {\n",
              "    0% {\n",
              "      border-color: transparent;\n",
              "      border-bottom-color: var(--fill-color);\n",
              "      border-left-color: var(--fill-color);\n",
              "    }\n",
              "    20% {\n",
              "      border-color: transparent;\n",
              "      border-left-color: var(--fill-color);\n",
              "      border-top-color: var(--fill-color);\n",
              "    }\n",
              "    30% {\n",
              "      border-color: transparent;\n",
              "      border-left-color: var(--fill-color);\n",
              "      border-top-color: var(--fill-color);\n",
              "      border-right-color: var(--fill-color);\n",
              "    }\n",
              "    40% {\n",
              "      border-color: transparent;\n",
              "      border-right-color: var(--fill-color);\n",
              "      border-top-color: var(--fill-color);\n",
              "    }\n",
              "    60% {\n",
              "      border-color: transparent;\n",
              "      border-right-color: var(--fill-color);\n",
              "    }\n",
              "    80% {\n",
              "      border-color: transparent;\n",
              "      border-right-color: var(--fill-color);\n",
              "      border-bottom-color: var(--fill-color);\n",
              "    }\n",
              "    90% {\n",
              "      border-color: transparent;\n",
              "      border-bottom-color: var(--fill-color);\n",
              "    }\n",
              "  }\n",
              "</style>\n",
              "\n",
              "  <script>\n",
              "    async function quickchart(key) {\n",
              "      const quickchartButtonEl =\n",
              "        document.querySelector('#' + key + ' button');\n",
              "      quickchartButtonEl.disabled = true;  // To prevent multiple clicks.\n",
              "      quickchartButtonEl.classList.add('colab-df-spinner');\n",
              "      try {\n",
              "        const charts = await google.colab.kernel.invokeFunction(\n",
              "            'suggestCharts', [key], {});\n",
              "      } catch (error) {\n",
              "        console.error('Error during call to suggestCharts:', error);\n",
              "      }\n",
              "      quickchartButtonEl.classList.remove('colab-df-spinner');\n",
              "      quickchartButtonEl.classList.add('colab-df-quickchart-complete');\n",
              "    }\n",
              "    (() => {\n",
              "      let quickchartButtonEl =\n",
              "        document.querySelector('#df-e204049a-9d87-4601-bef8-5cd6181d6621 button');\n",
              "      quickchartButtonEl.style.display =\n",
              "        google.colab.kernel.accessAllowed ? 'block' : 'none';\n",
              "    })();\n",
              "  </script>\n",
              "</div>\n",
              "\n",
              "    </div>\n",
              "  </div>\n"
            ],
            "application/vnd.google.colaboratory.intrinsic+json": {
              "type": "dataframe",
              "variable_name": "train_df"
            }
          },
          "metadata": {},
          "execution_count": 53
        }
      ]
    },
    {
      "cell_type": "code",
      "source": [
        "train_df['label'].value_counts( )"
      ],
      "metadata": {
        "colab": {
          "base_uri": "https://localhost:8080/",
          "height": 178
        },
        "id": "0GiHdsxJzjCj",
        "outputId": "3e0f11ca-06c8-49d5-8514-72368f7f54bd"
      },
      "execution_count": null,
      "outputs": [
        {
          "output_type": "execute_result",
          "data": {
            "text/plain": [
              "label\n",
              "0    75173\n",
              "1    74827\n",
              "Name: count, dtype: int64"
            ],
            "text/html": [
              "<div>\n",
              "<style scoped>\n",
              "    .dataframe tbody tr th:only-of-type {\n",
              "        vertical-align: middle;\n",
              "    }\n",
              "\n",
              "    .dataframe tbody tr th {\n",
              "        vertical-align: top;\n",
              "    }\n",
              "\n",
              "    .dataframe thead th {\n",
              "        text-align: right;\n",
              "    }\n",
              "</style>\n",
              "<table border=\"1\" class=\"dataframe\">\n",
              "  <thead>\n",
              "    <tr style=\"text-align: right;\">\n",
              "      <th></th>\n",
              "      <th>count</th>\n",
              "    </tr>\n",
              "    <tr>\n",
              "      <th>label</th>\n",
              "      <th></th>\n",
              "    </tr>\n",
              "  </thead>\n",
              "  <tbody>\n",
              "    <tr>\n",
              "      <th>0</th>\n",
              "      <td>75173</td>\n",
              "    </tr>\n",
              "    <tr>\n",
              "      <th>1</th>\n",
              "      <td>74827</td>\n",
              "    </tr>\n",
              "  </tbody>\n",
              "</table>\n",
              "</div><br><label><b>dtype:</b> int64</label>"
            ]
          },
          "metadata": {},
          "execution_count": 54
        }
      ]
    },
    {
      "cell_type": "code",
      "source": [
        "import re\n",
        "\n",
        "train_df = train_df.fillna(' ')\n",
        "#정규 표현식을 이용해 숫자를 공백으로 변경(정규 표현식으로 \\d는 숫자를 의미함.)\n",
        "train_df['document'] = train_df['document'].apply( lambda x : re.sub(r\"\\d+\", \" \", x) )\n",
        "\n",
        "#테스트 데이터 세트를 로딩하고 동일하게 Null 및 숫자를 공백으로 변환\n",
        "test_df = pd.read_csv('/content/drive/MyDrive/ESAA/ratings_test.txt', sep='\\t', encoding='utf-8')\n",
        "test_df['document'] = test_df['document'].astype(str).apply(lambda x: re.sub(r\"\\d+\", \" \", x))\n",
        "\n",
        "#id 칼럼 삭제 수행\n",
        "train_df.drop('id', axis=1, inplace=True)\n",
        "test_df.drop('id', axis=1, inplace=True)"
      ],
      "metadata": {
        "id": "BaSxMgzwzkl0"
      },
      "execution_count": null,
      "outputs": []
    },
    {
      "cell_type": "code",
      "source": [
        "from konlpy.tag import Twitter\n",
        "\n",
        "twitter = Twitter()\n",
        "def tw_tokenizer(text):\n",
        "#입력 인자로 들어온 텍스트를 형태소 단어로 토큰화해 리스트 형태로 반환\n",
        "    tokens_ko = twitter.morphs(text)\n",
        "    return tokens_ko"
      ],
      "metadata": {
        "id": "dCyU_OI00agP"
      },
      "execution_count": null,
      "outputs": []
    },
    {
      "cell_type": "code",
      "source": [
        "from sklearn.feature_extraction.text import TfidfVectorizer\n",
        "from sklearn.linear_model import LogisticRegression\n",
        "from sklearn.model_selection import GridSearchCV\n",
        "\n",
        "#Twitter 객체의 morphs( ) 객체를 이용한 tokenizer를 사용. ngram_range는 (1, 2)\n",
        "tfidf_vect = TfidfVectorizer(tokenizer=tw_tokenizer, ngram_range=(1, 2), min_df=3, max_df=0.9)\n",
        "tfidf_vect.fit(train_df['document'])\n",
        "tfidf_matrix_train = tfidf_vect.transform(train_df['document'])"
      ],
      "metadata": {
        "id": "qvF7LkoJ0kmL"
      },
      "execution_count": null,
      "outputs": []
    },
    {
      "cell_type": "code",
      "source": [
        "#로지스틱 회귀를 이용해 감성 분석 분류 수행.\n",
        "lg_clf = LogisticRegression(random_state=0, solver='liblinear')\n",
        "\n",
        "#파라미터 C 최적화를 위해 GridSearchCV를 이용.\n",
        "params = { 'C' : [1, 3.5, 4.5, 5.5, 10] }\n",
        "grid_cv = GridSearchCV(lg_clf, param_grid=params, cv=3, scoring='accuracy', verbose=1)\n",
        "grid_cv.fit(tfidf_matrix_train, train_df['label'])\n",
        "print(grid_cv.best_params_, round(grid_cv.best_score_, 4))"
      ],
      "metadata": {
        "colab": {
          "base_uri": "https://localhost:8080/"
        },
        "id": "q2FXHudT0z7g",
        "outputId": "ab46a229-d147-4b79-9cd6-9939c58ab603"
      },
      "execution_count": null,
      "outputs": [
        {
          "output_type": "stream",
          "name": "stdout",
          "text": [
            "Fitting 3 folds for each of 5 candidates, totalling 15 fits\n",
            "{'C': 3.5} 0.8593\n"
          ]
        }
      ]
    },
    {
      "cell_type": "code",
      "source": [
        "from sklearn.metrics import accuracy_score\n",
        "\n",
        "#학습 데이터를 적용한 TfidfVectorizer를 이용해 테스트 데이터를 TF-IDF 값으로 피처 변환함.\n",
        "tfidf_matrix_test = tfidf_vect.transform(test_df['document'])\n",
        "\n",
        "#classifier는 GridSearchCV에서 최적 파라미터로 학습된 classifier를 그대로 이용\n",
        "best_estimator = grid_cv.best_estimator_\n",
        "preds = best_estimator.predict(tfidf_matrix_test)\n",
        "print ('Logistic Regression 정확도:', accuracy_score(test_df ['label'], preds))"
      ],
      "metadata": {
        "colab": {
          "base_uri": "https://localhost:8080/"
        },
        "id": "tU72aqoS1CH7",
        "outputId": "a34967ca-0792-4c1b-aacf-fea276b4a870"
      },
      "execution_count": null,
      "outputs": [
        {
          "output_type": "stream",
          "name": "stdout",
          "text": [
            "Logistic Regression 정확도: 0.86172\n"
          ]
        }
      ]
    }
  ]
}